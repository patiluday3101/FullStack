{
  "cells": [
    {
      "cell_type": "code",
      "execution_count": null,
      "metadata": {
        "id": "phfjeE0N1v8u"
      },
      "outputs": [],
      "source": [
        "#Basic If-Else Statements:"
      ]
    },
    {
      "cell_type": "code",
      "execution_count": null,
      "metadata": {
        "id": "fyy4aZVk1_fK"
      },
      "outputs": [],
      "source": [
        "#Q.1. Write a Python program to check if a given number is positive or negative."
      ]
    },
    {
      "cell_type": "code",
      "execution_count": null,
      "metadata": {
        "colab": {
          "base_uri": "https://localhost:8080/"
        },
        "id": "MPKf7fWd1_sx",
        "outputId": "289e7dcb-225d-44b1-be22-674f06573caf"
      },
      "outputs": [
        {
          "name": "stdout",
          "output_type": "stream",
          "text": [
            "Enter the Number:  89\n",
            "The number is positive \n"
          ]
        }
      ],
      "source": [
        "num = int(input(\"Enter the Number: \"))\n",
        "if num >=0:\n",
        "  print(\"The number is positive \")\n",
        "else:\n",
        "  print(\"The number is negative\")\n"
      ]
    },
    {
      "cell_type": "code",
      "execution_count": null,
      "metadata": {
        "id": "r54fDkJ41_v0"
      },
      "outputs": [],
      "source": [
        "#Q.2. Create a program that determines if a person is eligible to vote based on their age."
      ]
    },
    {
      "cell_type": "code",
      "execution_count": null,
      "metadata": {
        "colab": {
          "base_uri": "https://localhost:8080/"
        },
        "id": "tOzW0Ma81_yw",
        "outputId": "d3e4779a-eb73-4af5-f43f-81f355551be6"
      },
      "outputs": [
        {
          "name": "stdout",
          "output_type": "stream",
          "text": [
            "Enter Age : 19\n",
            "You are eligible for vote\n"
          ]
        }
      ],
      "source": [
        "age = int(input(\"Enter Age : \"))\n",
        "if age >=18:\n",
        "  print(\"You are eligible for vote\")\n",
        "else:\n",
        "    print(\"You are not eligible for vote\")"
      ]
    },
    {
      "cell_type": "code",
      "execution_count": null,
      "metadata": {
        "id": "qrATHdDG1_2H"
      },
      "outputs": [],
      "source": [
        "#Q.3. Develop a program to find the maximum of two numbers using if-else statements."
      ]
    },
    {
      "cell_type": "code",
      "execution_count": null,
      "metadata": {
        "colab": {
          "base_uri": "https://localhost:8080/"
        },
        "id": "Cg-XkJOH1_5t",
        "outputId": "3b449d49-dbeb-4709-cd9a-2a57c8163db7"
      },
      "outputs": [
        {
          "name": "stdout",
          "output_type": "stream",
          "text": [
            "20 is the maximum number \n"
          ]
        }
      ],
      "source": [
        "a=10\n",
        "b=20\n",
        "if a>b:\n",
        "  print(a,\"is the maximum number \")\n",
        "elif b>a:\n",
        "  print(b,\"is the maximum number \")\n",
        "else:\n",
        "    print(\"Both are same \")\n"
      ]
    },
    {
      "cell_type": "code",
      "execution_count": null,
      "metadata": {
        "id": "-og5GuZA4msK"
      },
      "outputs": [],
      "source": [
        "#Q.4. Write a Python script to classify a given year as a leap year or not."
      ]
    },
    {
      "cell_type": "code",
      "execution_count": null,
      "metadata": {
        "colab": {
          "base_uri": "https://localhost:8080/"
        },
        "id": "66iDPQjK4yqX",
        "outputId": "a34d532f-0121-40ac-c366-260a378c49f5"
      },
      "outputs": [
        {
          "name": "stdout",
          "output_type": "stream",
          "text": [
            "Enter Year: 2016\n",
            "2016 is a leap year\n"
          ]
        }
      ],
      "source": [
        "year = int(input(\"Enter Year: \"))\n",
        "if (year%400==0 and year%100==0 or year%4==0):\n",
        "  print(year,\"is a leap year\")\n",
        "else:\n",
        "  print(year,\"is not a leap year\")"
      ]
    },
    {
      "cell_type": "code",
      "execution_count": null,
      "metadata": {
        "id": "INOpxRc05K15"
      },
      "outputs": [],
      "source": [
        "#Q.5. Create a program that checks whether a character is a vowel or a consonant."
      ]
    },
    {
      "cell_type": "code",
      "execution_count": null,
      "metadata": {
        "colab": {
          "base_uri": "https://localhost:8080/"
        },
        "id": "mqGej0WK57YH",
        "outputId": "23014f95-fe8a-46d4-bf6e-1c1e0aa97f8b"
      },
      "outputs": [
        {
          "name": "stdout",
          "output_type": "stream",
          "text": [
            "Enter the character: U\n",
            "u is a vowel\n"
          ]
        }
      ],
      "source": [
        "char1 = input(\"Enter the character: \")\n",
        "char=char1.lower()\n",
        "if (char=='a' or char=='e' or char=='o' or char=='i' or char=='u'):\n",
        "  print(char,\"is a vowel\")\n",
        "else:\n",
        "   print(char,\"is a consonant\")\n"
      ]
    },
    {
      "cell_type": "code",
      "execution_count": null,
      "metadata": {
        "id": "xzig4Alx6VT_"
      },
      "outputs": [],
      "source": [
        "#Q.6. Implement a program to determine whether a given number is even or odd."
      ]
    },
    {
      "cell_type": "code",
      "execution_count": null,
      "metadata": {
        "colab": {
          "base_uri": "https://localhost:8080/"
        },
        "id": "QzIj0RX87Gki",
        "outputId": "9d8faa92-d542-46a6-ed8b-0d5054086542"
      },
      "outputs": [
        {
          "name": "stdout",
          "output_type": "stream",
          "text": [
            "Enter the Number: 6\n",
            "6 is even number\n"
          ]
        }
      ],
      "source": [
        "num = int(input(\"Enter the Number: \"))\n",
        "if num%2!=0:\n",
        "    print(num,\"is odd number\")\n",
        "else:\n",
        "    print(num,\"is even number\")"
      ]
    },
    {
      "cell_type": "code",
      "execution_count": null,
      "metadata": {
        "id": "yMFXl4337uXT"
      },
      "outputs": [],
      "source": [
        "#Q.7. Write a Python function to calculate the absolute value of a number without using the `abs()` function."
      ]
    },
    {
      "cell_type": "code",
      "execution_count": null,
      "metadata": {
        "colab": {
          "base_uri": "https://localhost:8080/"
        },
        "id": "Ggpp1N0A7uiY",
        "outputId": "fea3156d-f769-4522-fb29-40a6cef600cf"
      },
      "outputs": [
        {
          "name": "stdout",
          "output_type": "stream",
          "text": [
            "The absolute value of -5 is 5\n"
          ]
        }
      ],
      "source": [
        "def absolute_value(number):\n",
        "    if number < 0:\n",
        "        return -number\n",
        "    else:\n",
        "        return number\n",
        "\n",
        "# Test the function\n",
        "num = -5\n",
        "result = absolute_value(num)\n",
        "print(f\"The absolute value of {num} is {result}\")\n"
      ]
    },
    {
      "cell_type": "code",
      "execution_count": null,
      "metadata": {
        "id": "3UdcZp5m7vmw"
      },
      "outputs": [],
      "source": [
        "#Q.8. Develop a program that determines the largest of three given numbers using if-else statements."
      ]
    },
    {
      "cell_type": "code",
      "execution_count": null,
      "metadata": {
        "colab": {
          "base_uri": "https://localhost:8080/"
        },
        "id": "_K8of3AV7zsT",
        "outputId": "53105d7c-0ce9-4002-c160-7b61578c2756"
      },
      "outputs": [
        {
          "name": "stdout",
          "output_type": "stream",
          "text": [
            "Enter the First Number: 1\n",
            "Enter the Second Number: 1\n",
            "Enter the Third Number: 1\n",
            "1 is largest number\n"
          ]
        }
      ],
      "source": [
        "num1 = int(input(\"Enter the First Number: \"))\n",
        "num2 = int(input(\"Enter the Second Number: \"))\n",
        "num3 = int(input(\"Enter the Third Number: \"))\n",
        "\n",
        "if (num1>num2 and num1>num3):\n",
        "  print(num1,\"is largest number\")\n",
        "elif(num2>num1 and num2>num3):\n",
        "   print(num2,\"is largest number\")\n",
        "else:\n",
        "    print(num3,\"is largest number\")"
      ]
    },
    {
      "cell_type": "code",
      "execution_count": null,
      "metadata": {
        "id": "TMz3KAtx8KWu"
      },
      "outputs": [],
      "source": [
        "#Q.9. Create a program that checks if a given string is a palindrome."
      ]
    },
    {
      "cell_type": "code",
      "execution_count": null,
      "metadata": {
        "colab": {
          "base_uri": "https://localhost:8080/"
        },
        "id": "GUrBtDK7T2ZE",
        "outputId": "7dca5fd8-57b9-4873-916c-f1888bbd1f7c"
      },
      "outputs": [
        {
          "name": "stdout",
          "output_type": "stream",
          "text": [
            "Enter the string: madam\n",
            "The string is palindrome\n"
          ]
        }
      ],
      "source": [
        "s = input(\"Enter the string: \")\n",
        "r_s =s[::-1]\n",
        "if s==r_s:\n",
        "  print(\"The string is palindrome\")\n",
        "else:\n",
        "   print(\"The string is not palindrome\")"
      ]
    },
    {
      "cell_type": "code",
      "execution_count": null,
      "metadata": {
        "id": "GKzWQjAJUWSL"
      },
      "outputs": [],
      "source": [
        "#Q.10. Write a Python program to calculate the grade based on a student's score."
      ]
    },
    {
      "cell_type": "code",
      "execution_count": null,
      "metadata": {
        "colab": {
          "base_uri": "https://localhost:8080/"
        },
        "id": "rSqgk6PTUlg6",
        "outputId": "8fc5edab-814c-4c69-dbf6-852d8f31f994"
      },
      "outputs": [
        {
          "name": "stdout",
          "output_type": "stream",
          "text": [
            "Enter the marks: 76\n",
            "Gread: C\n"
          ]
        }
      ],
      "source": [
        "score = int(input(\"Enter the marks: \"))\n",
        "if score>=90:\n",
        "  print(\"Gread: A\")\n",
        "elif score>=80 and score<90:\n",
        "  print(\"Gread: B\")\n",
        "elif score>=70 and score<80:\n",
        "  print(\"Gread: C\")\n",
        "elif score>=60 and score<70:\n",
        "  print(\"Gread: D\")\n",
        "else:\n",
        "  print(\"Fail\")\n"
      ]
    },
    {
      "cell_type": "code",
      "execution_count": null,
      "metadata": {
        "id": "gKQuc4u4V7vF"
      },
      "outputs": [],
      "source": [
        "#Nested If-Else Statements:"
      ]
    },
    {
      "cell_type": "code",
      "execution_count": null,
      "metadata": {
        "id": "L8OD5E80V8rN"
      },
      "outputs": [],
      "source": [
        "#Q.11. Write a program to find the largest among three numbers using nested if-else statements."
      ]
    },
    {
      "cell_type": "code",
      "execution_count": null,
      "metadata": {
        "colab": {
          "base_uri": "https://localhost:8080/"
        },
        "id": "sdkoy5eNWDuh",
        "outputId": "cd028635-25a5-4ee1-c84e-01ccf71de447"
      },
      "outputs": [
        {
          "name": "stdout",
          "output_type": "stream",
          "text": [
            "Enter the First Number: 3\n",
            "Enter the Second Number: 4\n",
            "Enter the Third Number: 5\n",
            "The largest number among 3, 4, and 5 is 5\n"
          ]
        }
      ],
      "source": [
        "num1 = int(input(\"Enter the First Number: \"))\n",
        "num2 = int(input(\"Enter the Second Number: \"))\n",
        "num3 = int(input(\"Enter the Third Number: \"))\n",
        "\n",
        "if num1 >= num2:\n",
        "    if num1 >= num3:\n",
        "        largest = num1\n",
        "    else:\n",
        "        largest = num3\n",
        "else:\n",
        "    if num2 >= num3:\n",
        "        largest = num2\n",
        "    else:\n",
        "        largest = num3\n",
        "print(f\"The largest number among {num1}, {num2}, and {num3} is {largest}\")\n",
        "\n"
      ]
    },
    {
      "cell_type": "code",
      "execution_count": null,
      "metadata": {
        "id": "oyg7ncV-WuZH"
      },
      "outputs": [],
      "source": [
        "#Q.12. Implement a program to determine if a triangle is equilateral, isosceles, or scalene."
      ]
    },
    {
      "cell_type": "code",
      "execution_count": null,
      "metadata": {
        "colab": {
          "base_uri": "https://localhost:8080/"
        },
        "id": "ONYulAoXWxU0",
        "outputId": "37a020b2-9318-4404-a600-543e355e2940"
      },
      "outputs": [
        {
          "name": "stdout",
          "output_type": "stream",
          "text": [
            "Enter the length of the first side: 5\n",
            "Enter the length of the second side: 5\n",
            "Enter the length of the third side: 5\n",
            "The triangle with side lengths 5.0, 5.0, and 5.0 is a equilateral triangle.\n"
          ]
        }
      ],
      "source": [
        "# Input the lengths of the three sides of the triangle\n",
        "side1 = float(input(\"Enter the length of the first side: \"))\n",
        "side2 = float(input(\"Enter the length of the second side: \"))\n",
        "side3 = float(input(\"Enter the length of the third side: \"))\n",
        "\n",
        "# Check if the triangle is equilateral, isosceles, or scalene\n",
        "if side1 == side2 == side3:\n",
        "    triangle_type = \"equilateral\"\n",
        "else:\n",
        "    if side1 == side2 or side1 == side3 or side2 == side3:\n",
        "        triangle_type = \"isosceles\"\n",
        "    else:\n",
        "        triangle_type = \"scalene\"\n",
        "\n",
        "# Print the result\n",
        "print(f\"The triangle with side lengths {side1}, {side2}, and {side3} is a {triangle_type} triangle.\")\n"
      ]
    },
    {
      "cell_type": "code",
      "execution_count": null,
      "metadata": {
        "id": "tdD8eMj9Ya8C"
      },
      "outputs": [],
      "source": [
        "#Q.13. Develop a program that checks if a year is a leap year and also if it is a century year."
      ]
    },
    {
      "cell_type": "code",
      "execution_count": null,
      "metadata": {
        "colab": {
          "base_uri": "https://localhost:8080/"
        },
        "id": "K-IsRxanY1XQ",
        "outputId": "b4e0a716-db38-4c6e-84ba-c25c704031a5"
      },
      "outputs": [
        {
          "name": "stdout",
          "output_type": "stream",
          "text": [
            "Enter a year: 2000\n",
            "2000 is a leap year and a century year.\n"
          ]
        }
      ],
      "source": [
        "# Input the year from the user\n",
        "year = int(input(\"Enter a year: \"))\n",
        "\n",
        "# Check if it's a leap year\n",
        "is_leap_year = False\n",
        "\n",
        "if year % 4 == 0:\n",
        "    if year % 100 == 0:\n",
        "        if year % 400 == 0:\n",
        "            is_leap_year = True\n",
        "        else:\n",
        "            is_leap_year = False\n",
        "    else:\n",
        "        is_leap_year = True\n",
        "else:\n",
        "    is_leap_year = False\n",
        "\n",
        "# Check if it's a century year\n",
        "is_century_year = False\n",
        "\n",
        "if year % 100 == 0:\n",
        "    is_century_year = True\n",
        "\n",
        "# Print the results\n",
        "if is_leap_year and is_century_year:\n",
        "    print(f\"{year} is a leap year and a century year.\")\n",
        "elif is_leap_year:\n",
        "    print(f\"{year} is a leap year but not a century year.\")\n",
        "elif is_century_year:\n",
        "    print(f\"{year} is a century year but not a leap year.\")\n",
        "else:\n",
        "    print(f\"{year} is neither a leap year nor a century year.\")\n"
      ]
    },
    {
      "cell_type": "code",
      "execution_count": null,
      "metadata": {
        "id": "cwqeFtYaaS1C"
      },
      "outputs": [],
      "source": [
        "#Q.14. Write a Python script to determine if a number is positive, negative, or zero."
      ]
    },
    {
      "cell_type": "code",
      "execution_count": null,
      "metadata": {
        "colab": {
          "base_uri": "https://localhost:8080/"
        },
        "id": "_b-5M65yaZEx",
        "outputId": "3c825c36-9e86-4440-ea01-f235b8bf09b9"
      },
      "outputs": [
        {
          "name": "stdout",
          "output_type": "stream",
          "text": [
            "Enter the Number: 0\n",
            "The number is Zero\n"
          ]
        }
      ],
      "source": [
        "num = int(input(\"Enter the Number: \"))\n",
        "if num >=0:\n",
        "  if num >0:\n",
        "    print(\"The number is positive \")\n",
        "  elif num==0:\n",
        "    print(\"The number is Zero\")\n",
        "else:\n",
        "  print(\"The number is negative\")"
      ]
    },
    {
      "cell_type": "code",
      "execution_count": null,
      "metadata": {
        "id": "KydYCA9-bfnw"
      },
      "outputs": [],
      "source": [
        "#Q.15. Create a program to check if a person is a teenager (between 13 and 19 years old)"
      ]
    },
    {
      "cell_type": "code",
      "execution_count": null,
      "metadata": {
        "colab": {
          "base_uri": "https://localhost:8080/"
        },
        "id": "uQTDjf20bf7u",
        "outputId": "24ca65df-ce42-46f4-d7ef-d831cd49fa74"
      },
      "outputs": [
        {
          "name": "stdout",
          "output_type": "stream",
          "text": [
            "Enter your age: 15\n",
            "You are a teenager.\n"
          ]
        }
      ],
      "source": [
        "# Input the person's age\n",
        "age = int(input(\"Enter your age: \"))\n",
        "\n",
        "# Check if the person is a teenager using nested if-else\n",
        "if age >= 13:\n",
        "    if age <= 19:\n",
        "        print(\"You are a teenager.\")\n",
        "    else:\n",
        "        print(\"You are not a teenager.\")\n",
        "else:\n",
        "    print(\"You are not a teenager.\")\n"
      ]
    },
    {
      "cell_type": "code",
      "execution_count": null,
      "metadata": {
        "id": "Qb15CQCn2Itx"
      },
      "outputs": [],
      "source": [
        "#Q.16. Develop a program that determines the type of angle based on its measure (acute, obtuse, or right)."
      ]
    },
    {
      "cell_type": "code",
      "execution_count": null,
      "metadata": {
        "colab": {
          "base_uri": "https://localhost:8080/"
        },
        "id": "DBQyVVwf2LH1",
        "outputId": "8a6cec75-2431-4b50-9831-f6d12f214bb2"
      },
      "outputs": [
        {
          "name": "stdout",
          "output_type": "stream",
          "text": [
            "Enter the angle: 90\n",
            "The angle with a measure of 90.0 degrees is a Right  angle.\n"
          ]
        }
      ],
      "source": [
        "Angle = float(input(\"Enter the angle: \"))\n",
        "\n",
        "if Angle < 90:\n",
        "  angle_type = \"Acute\"\n",
        "elif Angle==90:\n",
        "  angle_type = \"Right \"\n",
        "elif Angle< 180:\n",
        "  angle_type = \"obtuse\"\n",
        "else:\n",
        "  angle_type =\"reflex\"\n",
        "\n",
        "print(f\"The angle with a measure of {Angle} degrees is a {angle_type} angle.\")\n"
      ]
    },
    {
      "cell_type": "code",
      "execution_count": null,
      "metadata": {
        "id": "hW8EIGIO4JO2"
      },
      "outputs": [],
      "source": [
        "#Q.17. Write a Python program to calculate the roots of a quadratic equation."
      ]
    },
    {
      "cell_type": "code",
      "execution_count": null,
      "metadata": {
        "colab": {
          "base_uri": "https://localhost:8080/"
        },
        "id": "PQ3T0POQ4MUd",
        "outputId": "ab1bc172-cab5-4a88-9294-65ee31e428ca"
      },
      "outputs": [
        {
          "name": "stdout",
          "output_type": "stream",
          "text": [
            "Enter the coefficient a: 5\n",
            "Enter the coefficient b: 4\n",
            "Enter the coefficient c: 5\n",
            "The roots are complex: -0.4 + 0.916515138991168i and -0.4 - 0.916515138991168i\n"
          ]
        }
      ],
      "source": [
        "import math\n",
        "\n",
        "# Get the coefficients from the user\n",
        "a = float(input(\"Enter the coefficient a: \"))\n",
        "b = float(input(\"Enter the coefficient b: \"))\n",
        "c = float(input(\"Enter the coefficient c: \"))\n",
        "\n",
        "# Calculate the discriminant\n",
        "discriminant = b**2 - 4*a*c\n",
        "\n",
        "# Check the discriminant to determine the type of roots\n",
        "if discriminant > 0:\n",
        "    # Two real and distinct roots\n",
        "    root1 = (-b + math.sqrt(discriminant)) / (2*a)\n",
        "    root2 = (-b - math.sqrt(discriminant)) / (2*a)\n",
        "    print(f\"The roots are real and distinct: {root1} and {root2}\")\n",
        "elif discriminant == 0:\n",
        "    # One real root (a repeated root)\n",
        "    root1 = -b / (2*a)\n",
        "    print(f\"The root is real and repeated: {root1}\")\n",
        "else:\n",
        "    # Complex roots (no real roots)\n",
        "    real_part = -b / (2*a)\n",
        "    imaginary_part = math.sqrt(abs(discriminant)) / (2*a)\n",
        "    print(f\"The roots are complex: {real_part} + {imaginary_part}i and {real_part} - {imaginary_part}i\")\n"
      ]
    },
    {
      "cell_type": "code",
      "execution_count": null,
      "metadata": {
        "id": "oOsZAYky6NeH"
      },
      "outputs": [],
      "source": [
        "#Q.18. Implement a program to determine the day of the week based on a user-provided number (1 for Monday, 2 for Tuesday, etc.)."
      ]
    },
    {
      "cell_type": "code",
      "execution_count": null,
      "metadata": {
        "colab": {
          "base_uri": "https://localhost:8080/"
        },
        "id": "5i59Cnfb6Nkm",
        "outputId": "3bd2db10-3209-428a-d9e7-ca6bb753e8bc"
      },
      "outputs": [
        {
          "name": "stdout",
          "output_type": "stream",
          "text": [
            "Enter a number (1-7) to represent the day of the week: 5\n",
            "The day corresponding to 5 is Friday.\n"
          ]
        }
      ],
      "source": [
        "# Get the user-provided number for the day of the week\n",
        "day_number = int(input(\"Enter a number (1-7) to represent the day of the week: \"))\n",
        "\n",
        "# Check the day of the week using nested if statements\n",
        "if day_number == 1:\n",
        "    day_name = \"Monday\"\n",
        "elif day_number == 2:\n",
        "    day_name = \"Tuesday\"\n",
        "elif day_number == 3:\n",
        "    day_name = \"Wednesday\"\n",
        "elif day_number == 4:\n",
        "    day_name = \"Thursday\"\n",
        "elif day_number == 5:\n",
        "    day_name = \"Friday\"\n",
        "elif day_number == 6:\n",
        "    day_name = \"Saturday\"\n",
        "elif day_number == 7:\n",
        "    day_name = \"Sunday\"\n",
        "else:\n",
        "    day_name = \"Invalid input\"\n",
        "\n",
        "# Print the result\n",
        "print(f\"The day to {day_number} is {day_name}.\")\n"
      ]
    },
    {
      "cell_type": "code",
      "execution_count": null,
      "metadata": {
        "id": "kbqzxaXk8Wc_"
      },
      "outputs": [],
      "source": [
        "#Q.19. Create a program that determines if a year is a leap year and also if it is evenly divisible by 400."
      ]
    },
    {
      "cell_type": "code",
      "execution_count": null,
      "metadata": {
        "colab": {
          "base_uri": "https://localhost:8080/"
        },
        "id": "N1KCVXJP8hV5",
        "outputId": "30292b14-27c8-4fd2-f6a4-214ff14545ce"
      },
      "outputs": [
        {
          "name": "stdout",
          "output_type": "stream",
          "text": [
            "Enter a year: 4000\n",
            "4000 is a leap year and is evenly divisible by 400.\n"
          ]
        }
      ],
      "source": [
        "# Get the year from the user\n",
        "year = int(input(\"Enter a year: \"))\n",
        "\n",
        "# Check if it's a leap year\n",
        "if (year % 4 == 0 and year % 100 != 0) or (year % 400 == 0):\n",
        "    print(f\"{year} is a leap year and is evenly divisible by 400.\")\n",
        "elif year % 4 == 0:\n",
        "    print(f\"{year} is a leap year, but not evenly divisible by 400.\")\n",
        "else:\n",
        "    print(f\"{year} is not a leap year.\")\n"
      ]
    },
    {
      "cell_type": "code",
      "execution_count": null,
      "metadata": {
        "id": "sOV0zEgo9VEm"
      },
      "outputs": [],
      "source": [
        "#Q.20. Develop a program that checks if a given number is prime or not using nested if-else statements."
      ]
    },
    {
      "cell_type": "code",
      "execution_count": null,
      "metadata": {
        "colab": {
          "base_uri": "https://localhost:8080/"
        },
        "id": "AU2vZkbr8-eY",
        "outputId": "75007741-d836-4c14-f9bb-92ec17459408"
      },
      "outputs": [
        {
          "name": "stdout",
          "output_type": "stream",
          "text": [
            "Enter a number: 3\n",
            "3 is a prime number.\n"
          ]
        }
      ],
      "source": [
        "# Input from the user\n",
        "num = int(input(\"Enter a number: \"))\n",
        "\n",
        "# Check if the number is less than 2 (not prime)\n",
        "if num < 2:\n",
        "    print(num, \"is not a prime number.\")\n",
        "else:\n",
        "    is_prime = True\n",
        "    # Loop from 2 to the number - 1\n",
        "    for i in range(2, num):\n",
        "        # Check if the number is divisible by any integer in the range\n",
        "        if num % i == 0:\n",
        "            is_prime = False\n",
        "            break\n",
        "    # If no divisors are found, the number is prime\n",
        "    if is_prime:\n",
        "        print(num, \"is a prime number.\")\n",
        "    else:\n",
        "        print(num, \"is not a prime number.\")\n"
      ]
    },
    {
      "cell_type": "code",
      "execution_count": null,
      "metadata": {
        "id": "1zTyOgnJ-tUI"
      },
      "outputs": [],
      "source": [
        "#Elif Statements:"
      ]
    },
    {
      "cell_type": "code",
      "execution_count": null,
      "metadata": {
        "id": "ZGKfoRFQ-ujM"
      },
      "outputs": [],
      "source": [
        "#Q.21. Write a Python program to assign grades based on different ranges of scores using elif statements."
      ]
    },
    {
      "cell_type": "code",
      "execution_count": null,
      "metadata": {
        "colab": {
          "base_uri": "https://localhost:8080/"
        },
        "id": "wWMmTTdp_bIm",
        "outputId": "24be10c1-a428-4587-b3ac-1880cc3cbada"
      },
      "outputs": [
        {
          "name": "stdout",
          "output_type": "stream",
          "text": [
            "Gread: C\n"
          ]
        }
      ],
      "source": [
        "score = int(input(\"Enter the marks: \"))\n",
        "if score>=90:\n",
        "  print(\"Gread: A\")\n",
        "elif score>=80 and score<90:\n",
        "  print(\"Gread: B\")\n",
        "elif score>=70 and score<80:\n",
        "  print(\"Gread: C\")\n",
        "elif score>=60 and score<70:\n",
        "  print(\"Gread: D\")\n",
        "else:\n",
        "  print(\"Fail\")"
      ]
    },
    {
      "cell_type": "code",
      "execution_count": null,
      "metadata": {
        "id": "Y3e-ZaZi_lgu"
      },
      "outputs": [],
      "source": [
        "#Q.22. Implement a program to determine the type of a triangle based on its angles."
      ]
    },
    {
      "cell_type": "code",
      "execution_count": null,
      "metadata": {
        "colab": {
          "base_uri": "https://localhost:8080/"
        },
        "id": "Faef6V0d_lq6",
        "outputId": "32ef0632-dbef-41d3-c402-3eb9ec2ce7e3"
      },
      "outputs": [
        {
          "name": "stdout",
          "output_type": "stream",
          "text": [
            "Enter the angle: 90\n",
            "The angle with a measure of 90.0 degrees is a Right  angle.\n"
          ]
        }
      ],
      "source": [
        "Angle = float(input(\"Enter the angle: \"))\n",
        "\n",
        "if Angle < 90:\n",
        "  angle_type = \"Acute\"\n",
        "elif Angle==90:\n",
        "  angle_type = \"Right \"\n",
        "elif Angle< 180:\n",
        "  angle_type = \"obtuse\"\n",
        "else:\n",
        "  angle_type =\"reflex\"\n",
        "\n",
        "print(f\"The angle with a measure of {Angle} degrees is a {angle_type} angle.\")\n"
      ]
    },
    {
      "cell_type": "code",
      "execution_count": null,
      "metadata": {
        "id": "y0EURar7_8N3"
      },
      "outputs": [],
      "source": [
        "#Q.23. Develop a program to categorize a given person's BMI into underweight, normal, overweight, or obese using elif statements."
      ]
    },
    {
      "cell_type": "code",
      "execution_count": null,
      "metadata": {
        "colab": {
          "base_uri": "https://localhost:8080/"
        },
        "id": "e6x99dt5ALau",
        "outputId": "b878ed7c-ec84-4c67-af2d-710025ac2658"
      },
      "outputs": [
        {
          "name": "stdout",
          "output_type": "stream",
          "text": [
            "Enter your height in meters: 1.46\n",
            "Your BMI is 21.58, and you are categorized as normal.\n"
          ]
        }
      ],
      "source": [
        "weight = float(input(\"Enter your weight in kilograms: \"))\n",
        "height = float(input(\"Enter your height in meters: \"))\n",
        "\n",
        "bmi = weight / (height ** 2)\n",
        "\n",
        "if bmi < 18.5:\n",
        "    category = \"underweight\"\n",
        "elif 18.5 <= bmi < 24.9:\n",
        "    category = \"normal\"\n",
        "elif 24.9 <= bmi < 29.9:\n",
        "    category = \"overweight\"\n",
        "else:\n",
        "    category = \"obese\"\n",
        "\n",
        "# Print the BMI category\n",
        "print(f\"Your BMI is {bmi:.2f}, and you are categorized as {category}.\")"
      ]
    },
    {
      "cell_type": "code",
      "execution_count": null,
      "metadata": {
        "id": "Z8UWbQi7BEaD"
      },
      "outputs": [],
      "source": [
        "#Q.24. Create a program that determines whether a given number is positive, negative, or zero using elif statements."
      ]
    },
    {
      "cell_type": "code",
      "execution_count": null,
      "metadata": {
        "id": "wqtab4IOAyrw"
      },
      "outputs": [],
      "source": [
        "num = int(input(\"Enter the Number: \"))\n",
        "if num >=0:\n",
        "  if num >0:\n",
        "    print(\"The number is positive \")\n",
        "  elif num==0:\n",
        "    print(\"The number is Zero\")\n",
        "else:\n",
        "  print(\"The number is negative\")"
      ]
    },
    {
      "cell_type": "code",
      "execution_count": null,
      "metadata": {
        "id": "hzH_i4Z1BRu1"
      },
      "outputs": [],
      "source": [
        "#Q.25. Write a Python script to determine the type of a character (uppercase, lowercase, or special) using elif statements."
      ]
    },
    {
      "cell_type": "code",
      "execution_count": null,
      "metadata": {
        "colab": {
          "base_uri": "https://localhost:8080/"
        },
        "id": "Ec3MXjl3Bn5a",
        "outputId": "22a73b83-04ad-4836-ec7d-b83f8a36a314"
      },
      "outputs": [
        {
          "name": "stdout",
          "output_type": "stream",
          "text": [
            "Enter the character: c\n",
            "The character is lowercase...\n",
            "Enter the character: r\n",
            "The character is lowercase...\n"
          ]
        }
      ],
      "source": [
        "char = input(\"Enter the character: \")\n",
        "\n",
        "if char.isupper():\n",
        "  print(\"The character is uppercase...\")\n",
        "elif char.islower():\n",
        "   print(\"The character is lowercase...\")\n",
        "else:\n",
        "  print(\"special character..\")"
      ]
    },
    {
      "cell_type": "code",
      "execution_count": null,
      "metadata": {
        "id": "HpDtz5NCC9Ph"
      },
      "outputs": [],
      "source": [
        "#Q.26. Implement a program to calculate the discounted price based on different purchase amounts using elif statements."
      ]
    },
    {
      "cell_type": "code",
      "execution_count": null,
      "metadata": {
        "colab": {
          "base_uri": "https://localhost:8080/"
        },
        "id": "bORGPD8OC9av",
        "outputId": "c445f039-dfc7-46ad-c70f-a6a2814df5f8"
      },
      "outputs": [
        {
          "name": "stdout",
          "output_type": "stream",
          "text": [
            "Enter the purchase amount: 1100\n",
            "Original Price: 1100.00\n",
            "Discounted Price: 770.00\n",
            "30% discount applied\n"
          ]
        }
      ],
      "source": [
        "p_amount =int(input(\"Enter the purchase amount: \"))\n",
        "\n",
        "\n",
        "# Initialize variables for discount rates\n",
        "discount_rate_1 = 0.10  # 10% discount\n",
        "discount_rate_2 = 0.20  # 20% discount\n",
        "discount_rate_3 = 0.30  # 30% discount\n",
        "\n",
        "# Calculate the discounted price using elif statements\n",
        "if p_amount >= 1000:\n",
        "    discounted_price = p_amount * (1 - discount_rate_3)\n",
        "    discount_message = \"30% discount applied\"\n",
        "elif p_amount >= 500:\n",
        "    discounted_price = p_amount * (1 - discount_rate_2)\n",
        "    discount_message = \"20% discount applied\"\n",
        "elif p_amount >= 100:\n",
        "    discounted_price = p_amount * (1 - discount_rate_1)\n",
        "    discount_message = \"10% discount applied\"\n",
        "else:\n",
        "    discounted_price = p_amount\n",
        "    discount_message = \"No discount applied\"\n",
        "\n",
        "# Print the discounted price and discount message\n",
        "print(f\"Original Price: {p_amount:.2f}\")\n",
        "print(f\"Discounted Price: {discounted_price:.2f}\")\n",
        "print(discount_message)\n"
      ]
    },
    {
      "cell_type": "code",
      "execution_count": null,
      "metadata": {
        "id": "PEJtRAmpH_rP"
      },
      "outputs": [],
      "source": [
        "#Q.27. Develop a program to calculate the electricity bill based on different consumption slabs using elif statements."
      ]
    },
    {
      "cell_type": "code",
      "execution_count": null,
      "metadata": {
        "colab": {
          "base_uri": "https://localhost:8080/"
        },
        "id": "3eeI5c3-IGl0",
        "outputId": "5f80cb73-0ac7-430c-e7bf-a3f18cbac90d"
      },
      "outputs": [
        {
          "name": "stdout",
          "output_type": "stream",
          "text": [
            "Enter the consumption units: 122\n",
            "Electricity Bill: Rs. 374.00\n"
          ]
        }
      ],
      "source": [
        "# Input: Consumption units\n",
        "units = float(input(\"Enter the consumption units: \"))\n",
        "\n",
        "# Check if units are non-negative\n",
        "if units < 0:\n",
        "    print(\"Please enter a valid consumption value.\")\n",
        "else:\n",
        "    # Calculate electricity bill based on different slabs\n",
        "    if units <= 50:\n",
        "        # First slab: Rs. 2.50 per unit\n",
        "        bill = units * 2.50\n",
        "    elif units <= 100:\n",
        "        # Second slab: Rs. 3.00 per unit\n",
        "        bill = 50 * 2.50 + (units - 50) * 3.00\n",
        "    elif units <= 200:\n",
        "        # Third slab: Rs. 4.50 per unit\n",
        "        bill = 50 * 2.50 + 50 * 3.00 + (units - 100) * 4.50\n",
        "    else:\n",
        "        # Fourth slab: Rs. 6.00 per unit\n",
        "        bill = 50 * 2.50 + 50 * 3.00 + 100 * 4.50 + (units - 200) * 6.00\n",
        "\n",
        "# Display the electricity bill\n",
        "    print(f\"Electricity Bill: Rs. {bill:.2f}\")\n"
      ]
    },
    {
      "cell_type": "code",
      "execution_count": null,
      "metadata": {
        "id": "XOAht52bQPBV"
      },
      "outputs": [],
      "source": [
        "#Q.28. Create a program to determine the type of quadrilateral based on its angles and sides using elif statements."
      ]
    },
    {
      "cell_type": "code",
      "execution_count": null,
      "metadata": {
        "colab": {
          "base_uri": "https://localhost:8080/"
        },
        "id": "O_QcYLl0Qk6c",
        "outputId": "e1573bb5-eed5-4055-9602-c7e684f00d4d"
      },
      "outputs": [
        {
          "name": "stdout",
          "output_type": "stream",
          "text": [
            "Enter the first angle in degrees: 90\n",
            "Enter the second angle in degrees: 87\n",
            "Enter the third angle in degrees: 67\n",
            "Enter the fourth angle in degrees: 56\n",
            "Enter the length of the first side: 4\n",
            "Enter the length of the second side: 5\n",
            "Enter the length of the third side: 6\n",
            "Enter the length of the fourth side: 7\n",
            "This is not a valid quadrilateral (sum of angles is not 360 degrees).\n"
          ]
        }
      ],
      "source": [
        "# Input angles and sides\n",
        "angle1 = float(input(\"Enter the first angle in degrees: \"))\n",
        "angle2 = float(input(\"Enter the second angle in degrees: \"))\n",
        "angle3 = float(input(\"Enter the third angle in degrees: \"))\n",
        "angle4 = float(input(\"Enter the fourth angle in degrees: \"))\n",
        "\n",
        "side1 = float(input(\"Enter the length of the first side: \"))\n",
        "side2 = float(input(\"Enter the length of the second side: \"))\n",
        "side3 = float(input(\"Enter the length of the third side: \"))\n",
        "side4 = float(input(\"Enter the length of the fourth side: \"))\n",
        "\n",
        "# Check if the sum of angles is 360 degrees\n",
        "if angle1 + angle2 + angle3 + angle4 != 360:\n",
        "    print(\"This is not a valid quadrilateral (sum of angles is not 360 degrees).\")\n",
        "else:\n",
        "    # Check for different types of quadrilaterals based on angles and sides\n",
        "    if angle1 == angle2 == angle3 == angle4 == 90:\n",
        "        if side1 == side2 == side3 == side4:\n",
        "            print(\"This is a square.\")\n",
        "        else:\n",
        "            print(\"This is a rectangle.\")\n",
        "    elif side1 == side2 == side3 == side4:\n",
        "        if angle1 == angle3 and angle2 == angle4:\n",
        "            print(\"This is a parallelogram.\")\n",
        "        elif angle1 == angle2 == angle3 == angle4:\n",
        "            print(\"This is a rhombus.\")\n",
        "        else:\n",
        "            print(\"This is a general quadrilateral.\")\n",
        "    else:\n",
        "        print(\"This is a general quadrilateral.\")\n"
      ]
    },
    {
      "cell_type": "code",
      "execution_count": null,
      "metadata": {
        "id": "REtqkdSTRHXF"
      },
      "outputs": [],
      "source": [
        "#Q.29. Write a Python script to determine the season based on a user-provided month using elif statements."
      ]
    },
    {
      "cell_type": "code",
      "execution_count": null,
      "metadata": {
        "colab": {
          "base_uri": "https://localhost:8080/"
        },
        "id": "PNWNYQPFSHHl",
        "outputId": "c92b5642-84f7-4d42-f3cc-c4bbea86cdf7"
      },
      "outputs": [
        {
          "name": "stdout",
          "output_type": "stream",
          "text": [
            "Enterthe monthaugust\n",
            "The season of the given month is  Monsoon/Rainy\n"
          ]
        }
      ],
      "source": [
        "month = input(\"Enterthe month\")\n",
        "month = month.lower()\n",
        "if month in (\"march\", \"april\", \"may\", \"june\"):\n",
        "    season = \"Summer\"\n",
        "elif month in (\"july\", \"august\", \"september\", \"october\"):\n",
        "    season = \"Monsoon/Rainy\"\n",
        "elif month in (\"november\", \"december\", \"january\", \"february\"):\n",
        "    season = \"Winter\"\n",
        "else:\n",
        "    season = \"Invalid month\"\n",
        "\n",
        "print(\"The season of the given month is \",season)"
      ]
    },
    {
      "cell_type": "code",
      "execution_count": null,
      "metadata": {
        "id": "EL8pjBW5TVnA"
      },
      "outputs": [],
      "source": [
        "#Q.30. Implement a program to determine the type of a year (leap or common) and month (30 or 31 days) using elif statements."
      ]
    },
    {
      "cell_type": "code",
      "execution_count": null,
      "metadata": {
        "colab": {
          "base_uri": "https://localhost:8080/"
        },
        "id": "Euba5e9hTdVX",
        "outputId": "572a93e2-89ca-4d34-aa26-5f3f941b9cd3"
      },
      "outputs": [
        {
          "name": "stdout",
          "output_type": "stream",
          "text": [
            "Enter a year: 2023\n",
            "Enter a month (e.g., January, February, etc.): august\n",
            "2023 is a Common Year.\n",
            "August has 31 days.\n"
          ]
        }
      ],
      "source": [
        "# Input year and month from the user\n",
        "year = int(input(\"Enter a year: \"))\n",
        "month = input(\"Enter a month (e.g., January, February, etc.): \")\n",
        "\n",
        "# Determine if the year is leap or common\n",
        "if (year % 4 == 0 and year % 100 != 0) or (year % 400 == 0):\n",
        "    year_type = \"Leap Year\"\n",
        "else:\n",
        "    year_type = \"Common Year\"\n",
        "\n",
        "# Convert the input month to lowercase for case-insensitive comparison\n",
        "month = month.lower()\n",
        "\n",
        "# Determine the number of days in the month\n",
        "if month in (\"january\", \"march\", \"may\", \"july\", \"august\", \"october\", \"december\"):\n",
        "    days = 31\n",
        "elif month in (\"april\", \"june\", \"september\", \"november\"):\n",
        "    days = 30\n",
        "elif month == \"february\":\n",
        "    days = 29 if year_type == \"Leap Year\" else 28\n",
        "else:\n",
        "    days = None\n",
        "\n",
        "# Display the results\n",
        "if year_type == \"Leap Year\":\n",
        "    print(f\"{year} is a Leap Year.\")\n",
        "else:\n",
        "    print(f\"{year} is a Common Year.\")\n",
        "\n",
        "if days is not None:\n",
        "    print(f\"{month.capitalize()} has {days} days.\")\n",
        "else:\n",
        "    print(\"Please enter a valid month.\")\n"
      ]
    },
    {
      "cell_type": "code",
      "execution_count": null,
      "metadata": {
        "id": "vZK9fIBkUPxG"
      },
      "outputs": [],
      "source": [
        "#Basic Level:"
      ]
    },
    {
      "cell_type": "code",
      "execution_count": null,
      "metadata": {
        "id": "kTYhQsHmUS6z"
      },
      "outputs": [],
      "source": [
        "#Q.1. Write a Python program that checks if a given number is positive, negative, or zero."
      ]
    },
    {
      "cell_type": "code",
      "execution_count": null,
      "metadata": {
        "colab": {
          "base_uri": "https://localhost:8080/"
        },
        "id": "O_YahJ0qUTIE",
        "outputId": "ad489144-f333-402b-d484-138b05cbf02d"
      },
      "outputs": [
        {
          "name": "stdout",
          "output_type": "stream",
          "text": [
            "Enter the Number: 6\n",
            "The number is positive \n"
          ]
        }
      ],
      "source": [
        "num = int(input(\"Enter the Number: \"))\n",
        "if num >=0:\n",
        "  if num >0:\n",
        "    print(\"The number is positive \")\n",
        "  elif num==0:\n",
        "    print(\"The number is Zero\")\n",
        "else:\n",
        "  print(\"The number is negative\")"
      ]
    },
    {
      "cell_type": "code",
      "execution_count": null,
      "metadata": {
        "id": "uLcqrdN5Ue-E"
      },
      "outputs": [],
      "source": [
        "#Q.2. Create a program to determine if a person is eligible to vote based on their age."
      ]
    },
    {
      "cell_type": "code",
      "execution_count": null,
      "metadata": {
        "colab": {
          "base_uri": "https://localhost:8080/"
        },
        "id": "DYPS92eyUynV",
        "outputId": "47c2bb89-998b-4b8e-c3fd-29dde3eb6858"
      },
      "outputs": [
        {
          "name": "stdout",
          "output_type": "stream",
          "text": [
            "Enter Age : 67\n",
            "You are eligible for vote\n"
          ]
        }
      ],
      "source": [
        "age = int(input(\"Enter Age : \"))\n",
        "if age >=18:\n",
        "  print(\"You are eligible for vote\")\n",
        "else:\n",
        "    print(\"You are not eligible for vote\")"
      ]
    },
    {
      "cell_type": "code",
      "execution_count": null,
      "metadata": {
        "id": "hHWbAPBlU1gr"
      },
      "outputs": [],
      "source": [
        "#Q.3. Write a program to find the maximum of two given numbers using conditional statements."
      ]
    },
    {
      "cell_type": "code",
      "execution_count": null,
      "metadata": {
        "colab": {
          "base_uri": "https://localhost:8080/"
        },
        "id": "HQ4-A7y0VAOW",
        "outputId": "b359f752-b879-49f1-bdf0-27f315d8af8e"
      },
      "outputs": [
        {
          "name": "stdout",
          "output_type": "stream",
          "text": [
            "Enter the 1st number: 1\n",
            "Enter the 2nd number: 2\n",
            "2 is maximum number\n"
          ]
        }
      ],
      "source": [
        "n1 = int(input(\"Enter the 1st number: \"))\n",
        "n2 = int(input(\"Enter the 2nd number: \"))\n",
        "\n",
        "if n1>n2:\n",
        "  print(n1,\"is maximum number\")\n",
        "else:\n",
        "  print(n2,\"is maximum number\")\n"
      ]
    },
    {
      "cell_type": "code",
      "execution_count": null,
      "metadata": {
        "id": "t92K9-faVutM"
      },
      "outputs": [],
      "source": [
        "#Q.4. Develop a program that calculates the grade of a student based on their exam score."
      ]
    },
    {
      "cell_type": "code",
      "execution_count": null,
      "metadata": {
        "colab": {
          "base_uri": "https://localhost:8080/"
        },
        "id": "CyPwSj08V1dZ",
        "outputId": "64ff2178-ccbe-45f1-b95a-bef7c9661139"
      },
      "outputs": [
        {
          "name": "stdout",
          "output_type": "stream",
          "text": [
            "Enter the marks: 67\n",
            "Gread: D\n"
          ]
        }
      ],
      "source": [
        "score = int(input(\"Enter the marks: \"))\n",
        "if score>=90:\n",
        "  print(\"Gread: A\")\n",
        "elif score>=80 and score<90:\n",
        "  print(\"Gread: B\")\n",
        "elif score>=70 and score<80:\n",
        "  print(\"Gread: C\")\n",
        "elif score>=60 and score<70:\n",
        "  print(\"Gread: D\")\n",
        "else:\n",
        "  print(\"Fail\")"
      ]
    },
    {
      "cell_type": "code",
      "execution_count": null,
      "metadata": {
        "id": "7f8pEo90Y9VA"
      },
      "outputs": [],
      "source": [
        "#Q.5. Create a program that checks if a year is a leap year or not."
      ]
    },
    {
      "cell_type": "code",
      "execution_count": null,
      "metadata": {
        "colab": {
          "base_uri": "https://localhost:8080/"
        },
        "id": "FeBsNCHQZCdR",
        "outputId": "4f6dab65-48ac-4c98-9db9-7e674c039e4c"
      },
      "outputs": [
        {
          "name": "stdout",
          "output_type": "stream",
          "text": [
            "Enter the year: 5555\n",
            "common year\n"
          ]
        }
      ],
      "source": [
        "year = int(input(\"Enter the year: \"))\n",
        "if (year % 4 == 0 and year % 100 != 0) or (year % 400 == 0):\n",
        "    print(\"leap year\")\n",
        "else:\n",
        "    print(\"common year\")"
      ]
    },
    {
      "cell_type": "code",
      "execution_count": null,
      "metadata": {
        "id": "NEcequJXam3Q"
      },
      "outputs": [],
      "source": [
        "#Q.6. Write a program to classify a triangle based on its sides' lengths."
      ]
    },
    {
      "cell_type": "code",
      "execution_count": null,
      "metadata": {
        "id": "7D5L4jNFao1W"
      },
      "outputs": [],
      "source": [
        "# Input side lengths from the user\n",
        "side1 = float(input(\"Enter the length of the first side: \"))\n",
        "side2 = float(input(\"Enter the length of the second side: \"))\n",
        "side3 = float(input(\"Enter the length of the third side: \"))\n",
        "\n",
        "# Check if the input forms a valid triangle\n",
        "if side1 + side2 <= side3 or side1 + side3 <= side2 or side2 + side3 <= side1:\n",
        "    print(\"These side lengths do not form a valid triangle.\")\n",
        "else:\n",
        "    # Determine the type of triangle based on side lengths\n",
        "    if side1 == side2 == side3:\n",
        "        triangle_type = \"Equilateral\"\n",
        "    elif side1 == side2 or side1 == side3 or side2 == side3:\n",
        "        triangle_type = \"Isosceles\"\n",
        "    else:\n",
        "        triangle_type = \"Scalene\"\n",
        "\n",
        "    # Display the type of triangle\n",
        "    print(f\"The triangle with side lengths {side1}, {side2}, and {side3} is a {triangle_type} triangle.\")\n"
      ]
    },
    {
      "cell_type": "code",
      "execution_count": null,
      "metadata": {
        "id": "NmAW98ErbAtO"
      },
      "outputs": [],
      "source": [
        "#Q.7. Build a program that determines the largest of three given numbers."
      ]
    },
    {
      "cell_type": "code",
      "execution_count": null,
      "metadata": {
        "id": "CIR8-L2TbF_X"
      },
      "outputs": [],
      "source": [
        "# Input three numbers from the user\n",
        "num1 = float(input(\"Enter the first number: \"))\n",
        "num2 = float(input(\"Enter the second number: \"))\n",
        "num3 = float(input(\"Enter the third number: \"))\n",
        "\n",
        "# Determine the largest number using conditional statements\n",
        "if num1 >= num2 and num1 >= num3:\n",
        "    largest = num1\n",
        "elif num2 >= num1 and num2 >= num3:\n",
        "    largest = num2\n",
        "else:\n",
        "    largest = num3\n",
        "\n",
        "# Display the largest number\n",
        "print(f\"The largest number among {num1}, {num2}, and {num3} is {largest}.\")\n"
      ]
    },
    {
      "cell_type": "code",
      "execution_count": null,
      "metadata": {
        "id": "_kuRVLlxcv05"
      },
      "outputs": [],
      "source": [
        "#Q.8. Develop a program that checks whether a character is a vowel or a consonant."
      ]
    },
    {
      "cell_type": "code",
      "execution_count": null,
      "metadata": {
        "id": "mWMIUmgAc1TH"
      },
      "outputs": [],
      "source": [
        "char1 = input(\"Enter the character: \")\n",
        "char=char1.lower()\n",
        "if (char=='a' or char=='e' or char=='o' or char=='i' or char=='u'):\n",
        "  print(char,\"is a vowel\")\n",
        "else:\n",
        "   print(char,\"is a consonant\")\n"
      ]
    },
    {
      "cell_type": "code",
      "execution_count": null,
      "metadata": {
        "id": "Immo-qXDd8Gv"
      },
      "outputs": [],
      "source": [
        "#Q.9. Create a program to calculate the total cost of a shopping cart based on discounts."
      ]
    },
    {
      "cell_type": "code",
      "execution_count": null,
      "metadata": {
        "id": "ueqEv_gKc-gC"
      },
      "outputs": [],
      "source": [
        "# Define item prices and quantities\n",
        "item_prices = {\n",
        "    \"item1\": 10.00,\n",
        "    \"item2\": 15.00,\n",
        "    \"item3\": 8.00,\n",
        "}\n",
        "\n",
        "item_quantities = {\n",
        "    \"item1\": 3,\n",
        "    \"item2\": 2,\n",
        "    \"item3\": 4,\n",
        "}\n",
        "\n",
        "# Calculate the total cost of the shopping cart\n",
        "total_cost = sum(item_prices[item] * quantity for item, quantity in item_quantities.items())\n",
        "\n",
        "# Apply a discount if the total cost is above a certain threshold\n",
        "discount_threshold = 50.00\n",
        "discount_percentage = 10  # 10% discount\n",
        "\n",
        "if total_cost >= discount_threshold:\n",
        "    discount = (total_cost * discount_percentage) / 100\n",
        "    total_cost -= discount\n",
        "\n",
        "# Display the total cost after applying the discount\n",
        "print(f\"Total cost of the shopping cart: ${total_cost:.2f}\")\n"
      ]
    },
    {
      "cell_type": "code",
      "execution_count": null,
      "metadata": {
        "id": "OW6dP6BneEDH"
      },
      "outputs": [],
      "source": [
        "#Q.10. Write a program that checks if a given number is even or odd."
      ]
    },
    {
      "cell_type": "code",
      "execution_count": null,
      "metadata": {
        "id": "vlnbgkSWeIyD"
      },
      "outputs": [],
      "source": [
        "num = int(input(\"Enter the Number: \"))\n",
        "if num%2!=0:\n",
        "    print(num,\"is odd number\")\n",
        "else:\n",
        "    print(num,\"is even number\")"
      ]
    },
    {
      "cell_type": "code",
      "execution_count": null,
      "metadata": {
        "id": "4C1tbR9geRYn"
      },
      "outputs": [],
      "source": [
        "# Intermediate Level:"
      ]
    },
    {
      "cell_type": "code",
      "execution_count": null,
      "metadata": {
        "id": "tG5-8CmFe1Zc"
      },
      "outputs": [],
      "source": [
        "#Q.11. Write a program that calculates the roots of a quadratic equation ."
      ]
    },
    {
      "cell_type": "code",
      "execution_count": null,
      "metadata": {
        "id": "460cBerQe6dd"
      },
      "outputs": [],
      "source": [
        "import math\n",
        "\n",
        "# Get the coefficients from the user\n",
        "a = float(input(\"Enter the coefficient a: \"))\n",
        "b = float(input(\"Enter the coefficient b: \"))\n",
        "c = float(input(\"Enter the coefficient c: \"))\n",
        "\n",
        "# Calculate the discriminant\n",
        "discriminant = b**2 - 4*a*c\n",
        "\n",
        "# Check the discriminant to determine the type of roots\n",
        "if discriminant > 0:\n",
        "    # Two real and distinct roots\n",
        "    root1 = (-b + math.sqrt(discriminant)) / (2*a)\n",
        "    root2 = (-b - math.sqrt(discriminant)) / (2*a)\n",
        "    print(f\"The roots are real and distinct: {root1} and {root2}\")\n",
        "elif discriminant == 0:\n",
        "    # One real root (a repeated root)\n",
        "    root1 = -b / (2*a)\n",
        "    print(f\"The root is real and repeated: {root1}\")\n",
        "else:\n",
        "    # Complex roots (no real roots)\n",
        "    real_part = -b / (2*a)\n",
        "    imaginary_part = math.sqrt(abs(discriminant)) / (2*a)\n",
        "    print(f\"The roots are complex: {real_part} + {imaginary_part}i and {real_part} - {imaginary_part}i\")\n"
      ]
    },
    {
      "cell_type": "code",
      "execution_count": null,
      "metadata": {
        "id": "E7LSrfjqfOqE"
      },
      "outputs": [],
      "source": [
        "#Q.12. Create a program that determines the day of the week based on the day number (1-7)."
      ]
    },
    {
      "cell_type": "code",
      "execution_count": null,
      "metadata": {
        "colab": {
          "base_uri": "https://localhost:8080/"
        },
        "id": "TJj-oK1wfVhi",
        "outputId": "bb3284c5-6cc3-421f-c435-ecbf48967fcf"
      },
      "outputs": [
        {
          "name": "stdout",
          "output_type": "stream",
          "text": [
            "Enter the day number (1-7): 6\n",
            "The day with number 6 is Saturday.\n"
          ]
        }
      ],
      "source": [
        "# Input the day number (1-7) from the user\n",
        "day_number = int(input(\"Enter the day number (1-7): \"))\n",
        "\n",
        "# Determine the day of the week\n",
        "if day_number == 1:\n",
        "    day_name = \"Monday\"\n",
        "elif day_number == 2:\n",
        "    day_name = \"Tuesday\"\n",
        "elif day_number == 3:\n",
        "    day_name = \"Wednesday\"\n",
        "elif day_number == 4:\n",
        "    day_name = \"Thursday\"\n",
        "elif day_number == 5:\n",
        "    day_name = \"Friday\"\n",
        "elif day_number == 6:\n",
        "    day_name = \"Saturday\"\n",
        "elif day_number == 7:\n",
        "    day_name = \"Sunday\"\n",
        "else:\n",
        "    day_name = \"Invalid day number\"\n",
        "\n",
        "# Display the day of the week\n",
        "if day_name != \"Invalid day number\":\n",
        "    print(f\"The day with number {day_number} is {day_name}.\")\n",
        "else:\n",
        "    print(\"Please enter a valid day number between 1 and 7.\")\n"
      ]
    },
    {
      "cell_type": "code",
      "execution_count": null,
      "metadata": {
        "id": "QReMNkjZgjUt"
      },
      "outputs": [],
      "source": [
        "#Q.13. Develop a program that calculates the factorial of a given number using recursion."
      ]
    },
    {
      "cell_type": "code",
      "execution_count": null,
      "metadata": {
        "id": "IZcxATGHg81b"
      },
      "outputs": [],
      "source": [
        "# Input a number from the user\n",
        "num = int(input(\"Enter a non-negative integer: \"))\n",
        "\n",
        "# Check if the input is non-negative\n",
        "if num < 0:\n",
        "    print(\"Please enter a non-negative integer.\")\n",
        "else:\n",
        "    factorial = 1\n",
        "    for i in range(1, num + 1):\n",
        "        factorial *= i\n",
        "\n",
        "    print(f\"The factorial of {num} is {factorial}.\")\n"
      ]
    },
    {
      "cell_type": "code",
      "execution_count": null,
      "metadata": {
        "id": "EYHbHOfAg9uC"
      },
      "outputs": [],
      "source": [
        "#Q.14. Write a program to find the largest among three numbers without using the `max()` function."
      ]
    },
    {
      "cell_type": "code",
      "execution_count": null,
      "metadata": {
        "id": "tWzU1OtyhPyy"
      },
      "outputs": [],
      "source": [
        "# Input three numbers from the user\n",
        "num1 = float(input(\"Enter the first number: \"))\n",
        "num2 = float(input(\"Enter the second number: \"))\n",
        "num3 = float(input(\"Enter the third number: \"))\n",
        "\n",
        "# Initialize a variable to store the largest number\n",
        "largest = num1\n",
        "\n",
        "# Compare num2 and num3 to find the largest\n",
        "if num2 > largest:\n",
        "    largest = num2\n",
        "if num3 > largest:\n",
        "    largest = num3\n",
        "\n",
        "# Display the largest number\n",
        "print(\"The largest number among\", num1, \",\", num2, \", and\", num3, \"is\", largest, \".\")\n"
      ]
    },
    {
      "cell_type": "code",
      "execution_count": null,
      "metadata": {
        "id": "GcKqQdzDhc_K"
      },
      "outputs": [],
      "source": [
        "#Q.15. Create a program that simulates a basic ATM transaction menu."
      ]
    },
    {
      "cell_type": "code",
      "execution_count": null,
      "metadata": {
        "colab": {
          "base_uri": "https://localhost:8080/"
        },
        "id": "ufHdVb-whg3u",
        "outputId": "e3656076-6a52-4123-ebb5-db5ec4609338"
      },
      "outputs": [
        {
          "name": "stdout",
          "output_type": "stream",
          "text": [
            "\n",
            "ATM Menu:\n",
            "1. Check Balance\n",
            "2. Deposit Money\n",
            "3. Withdraw Money\n",
            "4. Exit\n",
            "Enter your choice (1/2/3/4): 1\n",
            "Your balance is ₹10000.00\n",
            "\n",
            "ATM Menu:\n",
            "1. Check Balance\n",
            "2. Deposit Money\n",
            "3. Withdraw Money\n",
            "4. Exit\n",
            "Enter your choice (1/2/3/4): 2\n",
            "Enter the deposit amount (INR): ₹4700\n",
            "₹4700.00 has been deposited. Your new balance is ₹14700.00\n",
            "\n",
            "ATM Menu:\n",
            "1. Check Balance\n",
            "2. Deposit Money\n",
            "3. Withdraw Money\n",
            "4. Exit\n",
            "Enter your choice (1/2/3/4): 3\n",
            "Enter the withdrawal amount (INR): ₹4700\n",
            "₹4700.00 has been withdrawn. Your new balance is ₹10000.00\n",
            "\n",
            "ATM Menu:\n",
            "1. Check Balance\n",
            "2. Deposit Money\n",
            "3. Withdraw Money\n",
            "4. Exit\n",
            "Enter your choice (1/2/3/4): 4\n",
            "Thank you for using the ATM. Have a nice day!\n"
          ]
        }
      ],
      "source": [
        "# Initialize account balance\n",
        "balance = 10000.0  # Initial balance in INR\n",
        "\n",
        "# Main ATM transaction menu\n",
        "while True:\n",
        "    print(\"\\nATM Menu:\")\n",
        "    print(\"1. Check Balance\")\n",
        "    print(\"2. Deposit Money\")\n",
        "    print(\"3. Withdraw Money\")\n",
        "    print(\"4. Exit\")\n",
        "\n",
        "    choice = input(\"Enter your choice (1/2/3/4): \")\n",
        "\n",
        "    if choice == \"1\":\n",
        "        print(f\"Your balance is ₹{balance:.2f}\")\n",
        "    elif choice == \"2\":\n",
        "        deposit_amount = float(input(\"Enter the deposit amount (INR): ₹\"))\n",
        "        balance += deposit_amount\n",
        "        print(f\"₹{deposit_amount:.2f} has been deposited. Your new balance is ₹{balance:.2f}\")\n",
        "    elif choice == \"3\":\n",
        "        withdrawal_amount = float(input(\"Enter the withdrawal amount (INR): ₹\"))\n",
        "        if withdrawal_amount > balance:\n",
        "            print(\"Insufficient balance.\")\n",
        "        else:\n",
        "            balance -= withdrawal_amount\n",
        "            print(f\"₹{withdrawal_amount:.2f} has been withdrawn. Your new balance is ₹{balance:.2f}\")\n",
        "    elif choice == \"4\":\n",
        "        print(\"Thank you for using the ATM. Have a nice day!\")\n",
        "        break\n",
        "    else:\n",
        "        print(\"Invalid choice. Please select a valid option (1/2/3/4).\")\n"
      ]
    },
    {
      "cell_type": "code",
      "execution_count": null,
      "metadata": {
        "id": "OnG2MAXvia3j"
      },
      "outputs": [],
      "source": [
        "#Q.16. Build a program that checks if a given string is a palindrome or not."
      ]
    },
    {
      "cell_type": "code",
      "execution_count": null,
      "metadata": {
        "colab": {
          "base_uri": "https://localhost:8080/"
        },
        "id": "C3E7kzCyih8E",
        "outputId": "8832e2a5-77df-448c-aacc-ae6a375a5c38"
      },
      "outputs": [
        {
          "name": "stdout",
          "output_type": "stream",
          "text": [
            "Ente the string: madam\n",
            "The string is pelindrome\n"
          ]
        }
      ],
      "source": [
        "string = input(\"Ente the string: \")\n",
        "r_string =string[::-1]\n",
        "if string == r_string:\n",
        "  print(\"The string is pelindrome\")\n",
        "else:\n",
        "  print(\"it is not a pelindrome\")"
      ]
    },
    {
      "cell_type": "code",
      "execution_count": null,
      "metadata": {
        "id": "hlwDaWeekBXB"
      },
      "outputs": [],
      "source": [
        "#Q.17. Write a program that calculates the average of a list of numbers, excluding the smallest and largest values."
      ]
    },
    {
      "cell_type": "code",
      "execution_count": null,
      "metadata": {
        "id": "lCFCXhZzi-34"
      },
      "outputs": [],
      "source": [
        "# Input a list of numbers from the user (comma-separated)\n",
        "input_str = input(\"Enter a list of numbers separated by commas: \")\n",
        "\n",
        "# Convert the input string into a list of floating-point numbers\n",
        "numbers = [float(x) for x in input_str.split(',')]\n",
        "\n",
        "# Check if there are at least 3 numbers in the list\n",
        "if len(numbers) < 3:\n",
        "    print(\"Please provide at least three numbers.\")\n",
        "else:\n",
        "    # Find and remove the smallest and largest values\n",
        "    min_val = min(numbers)\n",
        "    max_val = max(numbers)\n",
        "    numbers.remove(min_val)\n",
        "    numbers.remove(max_val)\n",
        "\n",
        "    # Calculate the average of the remaining values\n",
        "    average = sum(numbers) / len(numbers)\n",
        "\n",
        "    # Display the average\n",
        "    print(f\"The average of the middle values is: {average:.2f}\")\n"
      ]
    },
    {
      "cell_type": "code",
      "execution_count": null,
      "metadata": {
        "id": "O6xapg7-kIRq"
      },
      "outputs": [],
      "source": [
        "#Q.18. Develop a program that converts a given temperature from Celsius to Fahrenheit."
      ]
    },
    {
      "cell_type": "code",
      "execution_count": null,
      "metadata": {
        "colab": {
          "base_uri": "https://localhost:8080/"
        },
        "id": "Uv0jpcmhlpvA",
        "outputId": "ecd9f79e-92fc-4fc1-b6f9-500ddc2fc86c"
      },
      "outputs": [
        {
          "name": "stdout",
          "output_type": "stream",
          "text": [
            "Enter temperature in Celsius: 45\n",
            "45.0 degrees Celsius is equal to 113.00 degrees Fahrenheit.\n"
          ]
        }
      ],
      "source": [
        "# Input temperature in Celsius from the user\n",
        "celsius = float(input(\"Enter temperature in Celsius: \"))\n",
        "\n",
        "# Convert Celsius to Fahrenheit\n",
        "fahrenheit = (celsius * 9/5) + 32\n",
        "\n",
        "# Display the result\n",
        "print(f\"{celsius} degrees Celsius is equal to {fahrenheit:.2f} degrees Fahrenheit.\")\n"
      ]
    },
    {
      "cell_type": "code",
      "execution_count": null,
      "metadata": {
        "id": "tNpyXD-HpYXR"
      },
      "outputs": [],
      "source": [
        "#Q.19. Create a program that simulates a basic calculator for addition, subtraction, multiplication, and division."
      ]
    },
    {
      "cell_type": "code",
      "execution_count": null,
      "metadata": {
        "id": "_p8T6LYNp-6g"
      },
      "outputs": [],
      "source": [
        "while True:\n",
        "    print(\"\\nCalculator Menu:\")\n",
        "    print(\"1. Add\")\n",
        "    print(\"2. Subtract\")\n",
        "    print(\"3. Multiply\")\n",
        "    print(\"4. Divide\")\n",
        "    print(\"5. Quit\")\n",
        "\n",
        "    choice = input(\"Enter your choice (1/2/3/4/5): \")\n",
        "\n",
        "    if choice == \"5\":\n",
        "        print(\"Exiting the calculator. Goodbye!\")\n",
        "        break\n",
        "\n",
        "    if choice not in (\"1\", \"2\", \"3\", \"4\"):\n",
        "        print(\"Invalid choice. Please select a valid option (1/2/3/4).\")\n",
        "        continue\n",
        "\n",
        "    num1 = float(input(\"Enter the first number: \"))\n",
        "    num2 = float(input(\"Enter the second number: \"))\n",
        "\n",
        "    if choice == \"1\":\n",
        "        result = num1 + num2\n",
        "        print(f\"The result of addition is: {result}\")\n",
        "    elif choice == \"2\":\n",
        "        result = num1 - num2\n",
        "        print(f\"The result of subtraction is: {result}\")\n",
        "    elif choice == \"3\":\n",
        "        result = num1 * num2\n",
        "        print(f\"The result of multiplication is: {result}\")\n",
        "    elif choice == \"4\":\n",
        "        if num2 == 0:\n",
        "            print(\"Cannot divide by zero.\")\n",
        "        else:\n",
        "            result = num1 / num2\n",
        "            print(f\"The result of division is: {result}\")\n"
      ]
    },
    {
      "cell_type": "code",
      "execution_count": null,
      "metadata": {
        "id": "0gLH6PgHuG4x"
      },
      "outputs": [],
      "source": [
        "#Q.20. Write a program that determines the roots of a cubic equation using the Cardano formula."
      ]
    },
    {
      "cell_type": "code",
      "execution_count": null,
      "metadata": {
        "id": "Ew3GV5rKuHmQ"
      },
      "outputs": [],
      "source": [
        "import math\n",
        "\n",
        "# Input coefficients from the user\n",
        "a = float(input(\"Enter the coefficient 'a': \"))\n",
        "b = float(input(\"Enter the coefficient 'b': \"))\n",
        "c = float(input(\"Enter the coefficient 'c': \"))\n",
        "d = float(input(\"Enter the coefficient 'd': \"))\n",
        "\n",
        "# Calculate discriminant and its square root\n",
        "delta = (18 * a * b * c * d) - (4 * b**3 * d) + (b**2 * c**2) - (4 * a * c**3) - (27 * a**2 * d**2)\n",
        "delta_sqrt = math.sqrt(abs(delta))\n",
        "\n",
        "# Calculate intermediate values\n",
        "p = (3 * a * c - b**2) / (3 * a**2)\n",
        "q = ((2 * b**3) - (9 * a * b * c) + (27 * a**2 * d)) / (27 * a**3)\n",
        "\n",
        "# Calculate discriminant for Cardano's formula\n",
        "discriminant = ((q / 2)**2) + ((p / 3)**3)\n",
        "\n",
        "if delta > 0:\n",
        "    if discriminant > 0:\n",
        "        u = (-q / 2 + math.sqrt(discriminant))**(1/3)\n",
        "        v = (-q / 2 - math.sqrt(discriminant))**(1/3)\n",
        "\n",
        "        root1 = u + v - (b / (3 * a))\n",
        "        print(f\"Real Root: {root1:.2f}\")\n",
        "    elif discriminant == 0:\n",
        "        root1 = (-(q / 2)**(1/3)) - (b / (3 * a))\n",
        "        root2 = 2 * (q / 2)**(1/3) - (b / (3 * a))\n",
        "        print(f\"Real Root 1: {root1:.2f}\")\n",
        "        print(f\"Real Root 2: {root2:.2f}\")\n",
        "    else:\n",
        "        rho = (math.sqrt((-p**3) / 27))\n",
        "        theta = math.acos(-(q / 2) / rho)\n",
        "\n",
        "        root1 = 2 * math.sqrt(-p / 3) * math.cos(theta / 3) - (b / (3 * a))\n",
        "        root2 = 2 * math.sqrt(-p / 3) * math.cos((theta + (2 * math.pi)) / 3) - (b / (3 * a))\n",
        "        root3 = 2 * math.sqrt(-p / 3) * math.cos((theta + (4 * math.pi)) / 3) - (b / (3 * a))\n",
        "\n",
        "        print(f\"Root 1: {root1:.2f}\")\n",
        "        print(f\"Root 2: {root2:.2f}\")\n",
        "        print(f\"Root 3: {root3:.2f}\")\n",
        "else:\n",
        "    if discriminant == 0:\n",
        "        u = (-q / 2)**(1/3)\n",
        "        v = (-q / 2)**(1/3)\n",
        "\n",
        "        root1 = 2 * u - (b / (3 * a))\n",
        "        root2 = -u - v - (b / (3 * a))\n",
        "\n",
        "        print(f\"Real Root 1: {root1:.2f}\")\n",
        "        print(f\"Real Root 2: {root2:.2f}\")\n",
        "    else:\n",
        "        rho = (math.sqrt((p**3) / 27))\n",
        "        alpha = math.acos(-(q / (2 * rho)))\n",
        "        beta = math.sqrt(3) * alpha / 2\n",
        "\n",
        "        root1 = 2 * math.sqrt(-p / 3) * math.cos(alpha / 3) - (b / (3 * a))\n",
        "        root2 = 2 * math.sqrt(-p / 3) * math.cos((alpha + (2 * math.pi)) / 3) - (b / (3 * a))\n",
        "        root3 = 2 * math.sqrt(-p / 3) * math.cos((alpha + (4 * math.pi)) / 3) - (b / (3 * a))\n",
        "\n",
        "        print(f\"Complex Root 1: {root1:.2f} + {beta:.2f}i\")\n",
        "        print(f\"Complex Root 2: {root2:.2f} - {beta:.2f}i\")\n",
        "        print(f\"Complex Root 3: {root3:.2f} + {-beta:.2f}i\")\n"
      ]
    },
    {
      "cell_type": "code",
      "execution_count": null,
      "metadata": {
        "id": "oDntXfP2Uzdx"
      },
      "outputs": [],
      "source": [
        "#Advanced Level:"
      ]
    },
    {
      "cell_type": "code",
      "execution_count": null,
      "metadata": {
        "id": "_kz6Rk52U9-o"
      },
      "outputs": [],
      "source": [
        "#Q.21. Create a program that calculates the income tax based on the user's income and tax brackets."
      ]
    },
    {
      "cell_type": "code",
      "execution_count": null,
      "metadata": {
        "colab": {
          "base_uri": "https://localhost:8080/"
        },
        "id": "copU8qwSU-Fq",
        "outputId": "d6a5ad5e-c19b-4890-a451-c374df9802fe"
      },
      "outputs": [
        {
          "name": "stdout",
          "output_type": "stream",
          "text": [
            "Enter your annual income in INR: 4200000\n",
            "Your income tax for FY 2023-2024 is: INR 1072500.00\n"
          ]
        }
      ],
      "source": [
        "# Define tax slabs and rates for individuals below 60 years of age for FY 2023-2024\n",
        "tax_slabs = [\n",
        "    (2.5e5, 5e5, 0.05),\n",
        "    (5e5, 10e5, 0.2),\n",
        "    (10e5, float('inf'), 0.3)\n",
        "]\n",
        "\n",
        "# Get user input for income\n",
        "try:\n",
        "    income = float(input(\"Enter your annual income in INR: \"))\n",
        "except ValueError:\n",
        "    print(\"Invalid input. Please enter a valid number.\")\n",
        "else:\n",
        "    if income < 0:\n",
        "        print(\"Income cannot be negative.\")\n",
        "    else:\n",
        "        # Initialize tax amount\n",
        "        tax_amount = 0\n",
        "\n",
        "        # Calculate tax for each slab\n",
        "        for slab in tax_slabs:\n",
        "            min_income, max_income, tax_rate = slab\n",
        "\n",
        "            if income <= min_income:\n",
        "                continue\n",
        "\n",
        "            taxable_income = min(max_income, income) - min_income\n",
        "            tax_amount += taxable_income * tax_rate\n",
        "\n",
        "        print(f\"Your income tax for FY 2023-2024 is: INR {tax_amount:.2f}\")\n"
      ]
    },
    {
      "cell_type": "code",
      "execution_count": null,
      "metadata": {
        "id": "3jJyk9bHW509"
      },
      "outputs": [],
      "source": [
        "#Q.22. Write a program that simulates a rock-paper-scissors game against the computer."
      ]
    },
    {
      "cell_type": "code",
      "execution_count": null,
      "metadata": {
        "colab": {
          "base_uri": "https://localhost:8080/"
        },
        "id": "2yk35w9zXPqw",
        "outputId": "31e302cb-2631-4f03-86ac-ff42612ea0bf"
      },
      "outputs": [
        {
          "name": "stdout",
          "output_type": "stream",
          "text": [
            "Choose rock, paper, or scissors (q to quit): paper\n",
            "You win!\n",
            "Choose rock, paper, or scissors (q to quit): paper\n",
            "You win!\n",
            "Choose rock, paper, or scissors (q to quit): paper\n",
            "It's a tie!\n",
            "Choose rock, paper, or scissors (q to quit): roke\n",
            "Computer wins!\n",
            "Choose rock, paper, or scissors (q to quit): roke\n",
            "Computer wins!\n",
            "Choose rock, paper, or scissors (q to quit): ekfdf\n",
            "Computer wins!\n",
            "Choose rock, paper, or scissors (q to quit): lkdfalksdf\n",
            "Computer wins!\n",
            "Choose rock, paper, or scissors (q to quit): dfkasdjflajsdf\n",
            "Computer wins!\n",
            "Choose rock, paper, or scissors (q to quit): q\n",
            "Thanks for playing!\n"
          ]
        }
      ],
      "source": [
        "import random\n",
        "\n",
        "while True:\n",
        "    # User's choice\n",
        "    user_choice = input(\"Choose rock, paper, or scissors (q to quit): \").lower()\n",
        "\n",
        "    # Quit the game if the user enters 'q'\n",
        "    if user_choice == 'q':\n",
        "        break\n",
        "\n",
        "    # Computer's choice\n",
        "    computer_choice = random.choice(['rock', 'paper', 'scissors'])\n",
        "\n",
        "    # Determine the winner\n",
        "    if user_choice == computer_choice:\n",
        "        print(\"It's a tie!\")\n",
        "    elif user_choice == 'rock' and computer_choice == 'scissors':\n",
        "        print(\"You win!\")\n",
        "    elif user_choice == 'paper' and computer_choice == 'rock':\n",
        "        print(\"You win!\")\n",
        "    elif user_choice == 'scissors' and computer_choice == 'paper':\n",
        "        print(\"You win!\")\n",
        "    else:\n",
        "        print(\"Computer wins!\")\n",
        "\n",
        "print(\"Thanks for playing!\")\n"
      ]
    },
    {
      "cell_type": "code",
      "execution_count": null,
      "metadata": {
        "id": "2KQPMHxnYSbK"
      },
      "outputs": [],
      "source": [
        "#Q.23. Develop a program that generates a random password based on user preferences (length, complexity)."
      ]
    },
    {
      "cell_type": "code",
      "execution_count": null,
      "metadata": {
        "colab": {
          "background_save": true,
          "base_uri": "https://localhost:8080/"
        },
        "id": "eWLJBuUJYdPd",
        "outputId": "47f9d900-b808-4833-8a55-5a8ad1172abd"
      },
      "outputs": [
        {
          "name": "stdout",
          "output_type": "stream",
          "text": [
            "****************Password Generator****************\n",
            "Generated password: q D t # i ( : i\n",
            "****************Password Generator****************\n"
          ]
        }
      ],
      "source": [
        "import random\n",
        "import string\n",
        "\n",
        "def generate_password(length,use_lowercase,use_uppercase,use_digit,use_special_chars):\n",
        "  characters =' '\n",
        "\n",
        "  if use_lowercase:\n",
        "    characters += string.ascii_lowercase\n",
        "  if use_uppercase:\n",
        "    characters += string.ascii_uppercase\n",
        "  if use_digit:\n",
        "    characters += string.digits\n",
        "  if use_special_chars:\n",
        "    characters += string.punctuation\n",
        "\n",
        "    password =\" \".join(random.choice(characters) for i in range(length))\n",
        "    return password\n",
        "\n",
        "while True:\n",
        "  print(\"****************Password Generator****************\")\n",
        "  length = int(input(\"Enter the length of password: \"))\n",
        "  use_lowercase = input(\"Use lowercase letters? (yes/no): \").lower() == 'yes'\n",
        "  use_uppercase = input(\"Use uppercase letters? (yes/no): \").lower() == 'yes'\n",
        "  use_digits = input(\"Use digits? (yes/no): \").lower() == 'yes'\n",
        "  use_special_chars = input(\"Use special characters? (yes/no): \").lower() == 'yes'\n",
        "\n",
        "  password = generate_password(length, use_lowercase, use_uppercase, use_digits, use_special_chars)\n",
        "\n",
        "  if password:\n",
        "    print(f\"Generated password: {password}\")\n",
        "\n",
        "  play_again = input(\"Generate another password? (yes/no): \").lower()\n",
        "  if play_again != 'yes':\n",
        "     break\n",
        "\n",
        "print(\"Thanks for using the Password Generator!\")\n",
        "\n",
        "\n"
      ]
    },
    {
      "cell_type": "code",
      "execution_count": null,
      "metadata": {
        "id": "wA_C-uaLchgB"
      },
      "outputs": [],
      "source": [
        "#Q.24. Create a program that implements a simple text-based adventure game with branching scenarios."
      ]
    },
    {
      "cell_type": "code",
      "execution_count": null,
      "metadata": {
        "colab": {
          "base_uri": "https://localhost:8080/"
        },
        "id": "RP2rKYqmAcjX",
        "outputId": "d8177bb0-5be5-4ff5-9ee0-e1abcbd17a76"
      },
      "outputs": [
        {
          "name": "stdout",
          "output_type": "stream",
          "text": [
            "Welcome to the Text Adventure Game: India Story!\n",
            "You find yourself at the entrance of a dense forest in India.\n",
            "You can either explore the forest or follow a path to a nearby village.\n",
            "\n",
            "Your options:\n",
            "1. Explore the forest\n",
            "2. Follow the path to the village\n",
            "Enter your choice: 2\n",
            "You chose to follow the path to the village.\n",
            "Upon reaching the village, you find it bustling with activity.\n",
            "\n",
            "Your options:\n",
            "1. Visit the local market\n",
            "2. Talk to the village leader\n",
            "Enter your choice: 2\n",
            "You have a conversation with the village leader.\n",
            "They tell you about the rich history and traditions of the village.\n",
            "You are invited to stay as a guest and learn more about their way of life.\n",
            "Thanks for playing the Text Adventure Game: India Story! Namaste!\n"
          ]
        }
      ],
      "source": [
        "import time\n",
        "\n",
        "# Function to print messages with a delay for a more interactive experience\n",
        "def print_with_delay(message, delay=1):\n",
        "    print(message)\n",
        "    time.sleep(delay)\n",
        "\n",
        "# Function to get the player's choice\n",
        "def get_choice(options):\n",
        "    while True:\n",
        "        print(\"\\nYour options:\")\n",
        "        for i, option in enumerate(options, start=1):\n",
        "            print(f\"{i}. {option}\")\n",
        "        try:\n",
        "            choice = int(input(\"Enter your choice: \"))\n",
        "            if 1 <= choice <= len(options):\n",
        "                return choice\n",
        "            else:\n",
        "                print(\"Invalid choice. Try again.\")\n",
        "        except ValueError:\n",
        "            print(\"Invalid input. Enter a number.\")\n",
        "\n",
        "# Start the game\n",
        "print_with_delay(\"Welcome to the Text Adventure Game: India Story!\")\n",
        "print_with_delay(\"You find yourself at the entrance of a dense forest in India.\")\n",
        "print_with_delay(\"You can either explore the forest or follow a path to a nearby village.\")\n",
        "\n",
        "# First decision\n",
        "decision1 = get_choice([\"Explore the forest\", \"Follow the path to the village\"])\n",
        "\n",
        "if decision1 == 1:\n",
        "    print_with_delay(\"You chose to explore the forest.\")\n",
        "    print_with_delay(\"As you venture deeper into the forest, you encounter a group of friendly locals.\")\n",
        "\n",
        "    # Second decision\n",
        "    decision2 = get_choice([\"Interact with the locals\", \"Continue exploring\"])\n",
        "\n",
        "    if decision2 == 1:\n",
        "        print_with_delay(\"You decide to interact with the locals.\")\n",
        "        print_with_delay(\"They invite you to join their celebration and share their culture with you.\")\n",
        "        print_with_delay(\"You have an amazing time learning about the traditions of India.\")\n",
        "    else:\n",
        "        print_with_delay(\"You continue your exploration and stumble upon a hidden temple.\")\n",
        "        print_with_delay(\"Inside, you find a precious artifact.\")\n",
        "        print_with_delay(\"You decide to keep it as a souvenir.\")\n",
        "else:\n",
        "    print_with_delay(\"You chose to follow the path to the village.\")\n",
        "    print_with_delay(\"Upon reaching the village, you find it bustling with activity.\")\n",
        "\n",
        "    # Third decision\n",
        "    decision3 = get_choice([\"Visit the local market\", \"Talk to the village leader\"])\n",
        "\n",
        "    if decision3 == 1:\n",
        "        print_with_delay(\"You visit the local market and discover a variety of spices and handicrafts.\")\n",
        "        print_with_delay(\"You decide to buy some souvenirs to take home with you.\")\n",
        "    else:\n",
        "        print_with_delay(\"You have a conversation with the village leader.\")\n",
        "        print_with_delay(\"They tell you about the rich history and traditions of the village.\")\n",
        "        print_with_delay(\"You are invited to stay as a guest and learn more about their way of life.\")\n",
        "\n",
        "print_with_delay(\"Thanks for playing the Text Adventure Game: India Story! Namaste!\")\n"
      ]
    },
    {
      "cell_type": "code",
      "execution_count": null,
      "metadata": {
        "id": "gu6fX_0QCSFS"
      },
      "outputs": [],
      "source": [
        "#Q.25. Build a program that solves a linear equation for x, considering different cases."
      ]
    },
    {
      "cell_type": "code",
      "execution_count": null,
      "metadata": {
        "id": "euqGnKxHO7vV"
      },
      "outputs": [],
      "source": []
    },
    {
      "cell_type": "code",
      "execution_count": null,
      "metadata": {
        "id": "g6qCbHL5JsVW"
      },
      "outputs": [],
      "source": []
    },
    {
      "cell_type": "code",
      "execution_count": null,
      "metadata": {
        "id": "r6FmO_nmKEip"
      },
      "outputs": [],
      "source": [
        "#Q.26. Write a program that simulates a basic quiz game with multiple-choice questions and scoring."
      ]
    },
    {
      "cell_type": "code",
      "execution_count": null,
      "metadata": {
        "colab": {
          "base_uri": "https://localhost:8080/"
        },
        "id": "cytEWp0kKQJx",
        "outputId": "14be43b8-b6ed-468e-e3d7-b0f740039419"
      },
      "outputs": [
        {
          "name": "stdout",
          "output_type": "stream",
          "text": [
            "Welcome to the Quiz Game!\n",
            "You will be asked a series of multiple-choice questions. Enter A, B, C, or D for your answer.\n",
            "Let's get started!\n",
            "\n",
            "Question 1: What is the capital of France?\n",
            "A. London\n",
            "B. Berlin\n",
            "C. Paris\n",
            "D. Madrid\n",
            "Enter your answer (A/B/C/D): b\n",
            "Wrong! The correct answer is C.\n",
            "\n",
            "Question 2: Which planet is known as the 'Red Planet'?\n",
            "A. Venus\n",
            "B. Mars\n",
            "C. Jupiter\n",
            "D. Saturn\n",
            "Enter your answer (A/B/C/D): b\n",
            "Correct!\n",
            "\n",
            "Question 3: What is the largest mammal in the world?\n",
            "A. Elephant\n",
            "B. Blue Whale\n",
            "C. Giraffe\n",
            "D. Hippopotamus\n",
            "Enter your answer (A/B/C/D): b\n",
            "Correct!\n",
            "\n",
            "Quiz completed! Your score: 2/3\n"
          ]
        }
      ],
      "source": [
        "# Define the quiz questions and answers\n",
        "questions = [\n",
        "    {\n",
        "        \"question\": \"What is the capital of France?\",\n",
        "        \"options\": [\"A. London\", \"B. Berlin\", \"C. Paris\", \"D. Madrid\"],\n",
        "        \"correct_answer\": \"C\"\n",
        "    },\n",
        "    {\n",
        "        \"question\": \"Which planet is known as the 'Red Planet'?\",\n",
        "        \"options\": [\"A. Venus\", \"B. Mars\", \"C. Jupiter\", \"D. Saturn\"],\n",
        "        \"correct_answer\": \"B\"\n",
        "    },\n",
        "    {\n",
        "        \"question\": \"What is the largest mammal in the world?\",\n",
        "        \"options\": [\"A. Elephant\", \"B. Blue Whale\", \"C. Giraffe\", \"D. Hippopotamus\"],\n",
        "        \"correct_answer\": \"B\"\n",
        "    }\n",
        "]\n",
        "\n",
        "# Function to administer the quiz\n",
        "def administer_quiz(questions):\n",
        "    score = 0\n",
        "    for i, question in enumerate(questions, start=1):\n",
        "        print(f\"Question {i}: {question['question']}\")\n",
        "        for option in question['options']:\n",
        "            print(option)\n",
        "        user_answer = input(\"Enter your answer (A/B/C/D): \").strip().upper()\n",
        "        if user_answer == question['correct_answer']:\n",
        "            print(\"Correct!\\n\")\n",
        "            score += 1\n",
        "        else:\n",
        "            print(f\"Wrong! The correct answer is {question['correct_answer']}.\\n\")\n",
        "    return score\n",
        "\n",
        "# Main program\n",
        "print(\"Welcome to the Quiz Game!\")\n",
        "print(\"You will be asked a series of multiple-choice questions. Enter A, B, C, or D for your answer.\")\n",
        "print(\"Let's get started!\\n\")\n",
        "\n",
        "player_score = administer_quiz(questions)\n",
        "\n",
        "print(f\"Quiz completed! Your score: {player_score}/{len(questions)}\")\n"
      ]
    },
    {
      "cell_type": "code",
      "execution_count": null,
      "metadata": {
        "id": "5VHUXFayO9j3"
      },
      "outputs": [],
      "source": [
        "#Q.27. Develop a program that determines whether a given year is a prime number or not."
      ]
    },
    {
      "cell_type": "code",
      "execution_count": null,
      "metadata": {
        "colab": {
          "base_uri": "https://localhost:8080/"
        },
        "id": "jfwU8ZqYPJI7",
        "outputId": "60564883-f5a4-4d98-e580-10a5777de311"
      },
      "outputs": [
        {
          "name": "stdout",
          "output_type": "stream",
          "text": [
            "Enter a year to check for primality: 6000\n",
            "6000 is not a prime year.\n"
          ]
        }
      ],
      "source": [
        "# Function to check if a number is prime\n",
        "def is_prime(year):\n",
        "    if year <= 1:\n",
        "        return False\n",
        "    elif year <= 3:\n",
        "        return True\n",
        "    elif year % 2 == 0 or year % 3 == 0:\n",
        "        return False\n",
        "    i = 5\n",
        "    while i * i <= year:\n",
        "        if year % i == 0 or year % (i + 2) == 0:\n",
        "            return False\n",
        "        i += 6\n",
        "    return True\n",
        "\n",
        "# Get user input for the year\n",
        "try:\n",
        "    year = int(input(\"Enter a year to check for primality: \"))\n",
        "except ValueError:\n",
        "    print(\"Invalid input. Please enter a numeric year.\")\n",
        "else:\n",
        "    if is_prime(year):\n",
        "        print(f\"{year} is a prime year!\")\n",
        "    else:\n",
        "        print(f\"{year} is not a prime year.\")\n"
      ]
    },
    {
      "cell_type": "code",
      "execution_count": null,
      "metadata": {
        "id": "fAioxl9DPwiO"
      },
      "outputs": [],
      "source": [
        "#Q.28. Create a program that sorts three numbers in ascending order using conditional statements."
      ]
    },
    {
      "cell_type": "code",
      "execution_count": null,
      "metadata": {
        "id": "2Dmo4xIFQJQo"
      },
      "outputs": [],
      "source": [
        "    num1 = float(input(\"Enter the first number: \"))\n",
        "    num2 = float(input(\"Enter the second number: \"))\n",
        "    num3 = float(input(\"Enter the third number: \"))\n",
        "\n",
        "    # Use conditional statements to sort the numbers in ascending order\n",
        "    if num1 <= num2 and num1 <= num3:\n",
        "        smallest = num1\n",
        "        if num2 <= num3:\n",
        "            middle = num2\n",
        "            largest = num3\n",
        "        else:\n",
        "            middle = num3\n",
        "            largest = num2\n",
        "    elif num2 <= num1 and num2 <= num3:\n",
        "        smallest = num2\n",
        "        if num1 <= num3:\n",
        "            middle = num1\n",
        "            largest = num3\n",
        "        else:\n",
        "            middle = num3\n",
        "            largest = num1\n",
        "    else:  # num3 is the smallest\n",
        "        smallest = num3\n",
        "        if num1 <= num2:\n",
        "            middle = num1\n",
        "            largest = num2\n",
        "        else:\n",
        "            middle = num2\n",
        "            largest = num1\n",
        "\n",
        "    # Display the numbers in ascending order\n",
        "    print(f\"The numbers in ascending order are: {smallest}, {middle}, {largest}\")\n"
      ]
    },
    {
      "cell_type": "code",
      "execution_count": null,
      "metadata": {
        "id": "DU5sjLQyQvB3"
      },
      "outputs": [],
      "source": [
        "#Q.29. Build a program that determines the roots of a quartic equation using numerical methods."
      ]
    },
    {
      "cell_type": "code",
      "execution_count": null,
      "metadata": {
        "id": "swGFwnrXRpkj"
      },
      "outputs": [],
      "source": []
    },
    {
      "cell_type": "code",
      "execution_count": null,
      "metadata": {
        "id": "CHu_jaXNorxz"
      },
      "outputs": [],
      "source": [
        "#Q.30. Write a program that calculates the BMI (Body Mass Index) and provides health recommendations based on the user's input."
      ]
    },
    {
      "cell_type": "code",
      "execution_count": null,
      "metadata": {
        "colab": {
          "base_uri": "https://localhost:8080/"
        },
        "id": "XEwC_TfTo2Lq",
        "outputId": "36548498-5e91-4fbd-a4b0-5b8ec6477033"
      },
      "outputs": [
        {
          "name": "stdout",
          "output_type": "stream",
          "text": [
            "Enter your weight in kilograms: 45\n",
            "Enter your height in meters: 0.65\n",
            "Your BMI is: 106.51\n",
            "You are obese. It's crucial to consult a healthcare professional for guidance.\n"
          ]
        }
      ],
      "source": [
        "# Function to calculate BMI\n",
        "def calculate_bmi(weight, height):\n",
        "    # Formula for BMI: weight (kg) / (height (m) * height (m))\n",
        "    bmi = weight / (height ** 2)\n",
        "    return bmi\n",
        "\n",
        "# Function to provide health recommendations\n",
        "def get_recommendation(bmi):\n",
        "    if bmi < 18.5:\n",
        "        return \"You are underweight. It's important to maintain a healthy weight. Consider consulting a nutritionist.\"\n",
        "    elif 18.5 <= bmi < 24.9:\n",
        "        return \"Your BMI is in the healthy range. Keep up the good work!\"\n",
        "    elif 25 <= bmi < 29.9:\n",
        "        return \"You are overweight. Consider adopting a balanced diet and regular exercise routine.\"\n",
        "    else:\n",
        "        return \"You are obese. It's crucial to consult a healthcare professional for guidance.\"\n",
        "\n",
        "# Input from the user\n",
        "weight = float(input(\"Enter your weight in kilograms: \"))\n",
        "height = float(input(\"Enter your height in meters: \"))\n",
        "\n",
        "# Calculate BMI\n",
        "bmi = calculate_bmi(weight, height)\n",
        "\n",
        "# Get health recommendation\n",
        "recommendation = get_recommendation(bmi)\n",
        "\n",
        "# Display the results\n",
        "print(f\"Your BMI is: {bmi:.2f}\")\n",
        "print(recommendation)\n"
      ]
    },
    {
      "cell_type": "code",
      "execution_count": null,
      "metadata": {
        "id": "6XzDOAgapU2k"
      },
      "outputs": [],
      "source": [
        "#Q.31. Create a program that validates a password based on complexity rules (length, characters, etc.)."
      ]
    },
    {
      "cell_type": "code",
      "execution_count": null,
      "metadata": {
        "colab": {
          "base_uri": "https://localhost:8080/"
        },
        "id": "vr94gTUZp0Wt",
        "outputId": "efbc7984-a1cf-4fc9-b0f7-6350581671ba"
      },
      "outputs": [
        {
          "name": "stdout",
          "output_type": "stream",
          "text": [
            "Enter a password: Uday@3101\n",
            "Password is valid.\n"
          ]
        }
      ],
      "source": [
        "import re\n",
        "\n",
        "# Input from the user\n",
        "password = input(\"Enter a password: \")\n",
        "\n",
        "# Check the length of the password (should be at least 8 characters)\n",
        "if len(password) < 8:\n",
        "    print(\"Password is not valid. It should be at least 8 characters long.\")\n",
        "else:\n",
        "    # Check if the password contains at least one uppercase letter\n",
        "    if not re.search(r'[A-Z]', password):\n",
        "        print(\"Password is not valid. It should contain at least one uppercase letter.\")\n",
        "    # Check if the password contains at least one lowercase letter\n",
        "    elif not re.search(r'[a-z]', password):\n",
        "        print(\"Password is not valid. It should contain at least one lowercase letter.\")\n",
        "    # Check if the password contains at least one digit\n",
        "    elif not re.search(r'\\d', password):\n",
        "        print(\"Password is not valid. It should contain at least one digit.\")\n",
        "    # Check if the password contains at least one special character\n",
        "    elif not re.search(r'[!@#$%^&*()_+{}\\[\\]:;<>,.?~\\\\]', password):\n",
        "        print(\"Password is not valid. It should contain at least one special character.\")\n",
        "    else:\n",
        "        print(\"Password is valid.\")\n"
      ]
    },
    {
      "cell_type": "code",
      "execution_count": null,
      "metadata": {
        "id": "_gFIuEo_qSvU"
      },
      "outputs": [],
      "source": [
        "#Q.32. Develop a program that performs matrix addition and subtraction based on user input."
      ]
    },
    {
      "cell_type": "code",
      "execution_count": null,
      "metadata": {
        "colab": {
          "base_uri": "https://localhost:8080/"
        },
        "id": "05oCsz0bqzwi",
        "outputId": "93e60c09-6ec2-4629-ab37-22a1f5f094a4"
      },
      "outputs": [
        {
          "name": "stdout",
          "output_type": "stream",
          "text": [
            "Enter the number of rows for the matrices: 2\n",
            "Enter the number of columns for the matrices: 2\n",
            "\n",
            "Enter elements for the first matrix:\n",
            "Enter element at position (1,1): 1\n",
            "Enter element at position (1,2): 1\n",
            "Enter element at position (2,1): 1\n",
            "Enter element at position (2,2): 1\n",
            "\n",
            "Enter elements for the second matrix:\n",
            "Enter element at position (1,1): 1\n",
            "Enter element at position (1,2): 1\n",
            "Enter element at position (2,1): 1\n",
            "Enter element at position (2,2): 1\n",
            "\n",
            "Matrix Addition Result:\n",
            "[2.0, 2.0]\n",
            "[2.0, 2.0]\n",
            "\n",
            "Matrix Subtraction Result:\n",
            "[0.0, 0.0]\n",
            "[0.0, 0.0]\n"
          ]
        }
      ],
      "source": [
        "# Input matrix dimensions from the user\n",
        "rows = int(input(\"Enter the number of rows for the matrices: \"))\n",
        "cols = int(input(\"Enter the number of columns for the matrices: \"))\n",
        "\n",
        "# Create the first matrix\n",
        "print(\"\\nEnter elements for the first matrix:\")\n",
        "matrix1 = []\n",
        "for i in range(rows):\n",
        "    row = []\n",
        "    for j in range(cols):\n",
        "        element = float(input(f\"Enter element at position ({i+1},{j+1}): \"))\n",
        "        row.append(element)\n",
        "    matrix1.append(row)\n",
        "\n",
        "# Create the second matrix\n",
        "print(\"\\nEnter elements for the second matrix:\")\n",
        "matrix2 = []\n",
        "for i in range(rows):\n",
        "    row = []\n",
        "    for j in range(cols):\n",
        "        element = float(input(f\"Enter element at position ({i+1},{j+1}): \"))\n",
        "        row.append(element)\n",
        "    matrix2.append(row)\n",
        "\n",
        "# Initialize matrices for addition and subtraction results\n",
        "addition_result = []\n",
        "subtraction_result = []\n",
        "\n",
        "# Perform matrix addition and subtraction\n",
        "for i in range(rows):\n",
        "    add_row = []\n",
        "    sub_row = []\n",
        "    for j in range(cols):\n",
        "        add_element = matrix1[i][j] + matrix2[i][j]\n",
        "        sub_element = matrix1[i][j] - matrix2[i][j]\n",
        "        add_row.append(add_element)\n",
        "        sub_row.append(sub_element)\n",
        "    addition_result.append(add_row)\n",
        "    subtraction_result.append(sub_row)\n",
        "\n",
        "# Display the results\n",
        "print(\"\\nMatrix Addition Result:\")\n",
        "for row in addition_result:\n",
        "    print(row)\n",
        "\n",
        "print(\"\\nMatrix Subtraction Result:\")\n",
        "for row in subtraction_result:\n",
        "    print(row)\n"
      ]
    },
    {
      "cell_type": "code",
      "execution_count": null,
      "metadata": {
        "id": "5B_N9PZ2xDt3"
      },
      "outputs": [],
      "source": [
        "#Q.33. Write a program that calculates the greatest common divisor (GCD) of two numbers using the Euclidean algorithm."
      ]
    },
    {
      "cell_type": "code",
      "execution_count": null,
      "metadata": {
        "colab": {
          "base_uri": "https://localhost:8080/"
        },
        "id": "2j8VmHz6wawc",
        "outputId": "6594ded4-0c6d-4768-a4a3-3ca929ac1fe7"
      },
      "outputs": [
        {
          "name": "stdout",
          "output_type": "stream",
          "text": [
            "Enter the first number: 1220\n",
            "Enter the second number: 516\n",
            "The GCD of 1220 and 516 is 4\n"
          ]
        }
      ],
      "source": [
        "# Function to calculate the GCD using control statements\n",
        "def calculate_gcd(a, b):\n",
        "    while a != b:\n",
        "        if a > b:\n",
        "            a = a - b\n",
        "        else:\n",
        "            b = b - a\n",
        "    return a\n",
        "\n",
        "# Input from the user\n",
        "num1 = int(input(\"Enter the first number: \"))\n",
        "num2 = int(input(\"Enter the second number: \"))\n",
        "\n",
        "# Calculate the GCD\n",
        "gcd = calculate_gcd(num1, num2)\n",
        "\n",
        "# Display the result\n",
        "print(f\"The GCD of {num1} and {num2} is {gcd}\")\n"
      ]
    },
    {
      "cell_type": "code",
      "execution_count": null,
      "metadata": {
        "id": "JnxEvPduxejg"
      },
      "outputs": [],
      "source": [
        "#Q.34. Build a program that performs matrix multiplication using nested loops and conditional statements."
      ]
    },
    {
      "cell_type": "code",
      "execution_count": null,
      "metadata": {
        "id": "4bhFNSn2xk_9"
      },
      "outputs": [],
      "source": [
        "# Input matrix dimensions from the user\n",
        "rows1 = int(input(\"Enter the number of rows for the first matrix: \"))\n",
        "cols1 = int(input(\"Enter the number of columns for the first matrix: \"))\n",
        "rows2 = int(input(\"Enter the number of rows for the second matrix: \"))\n",
        "cols2 = int(input(\"Enter the number of columns for the second matrix: \"))\n",
        "\n",
        "# Check if matrix multiplication is possible\n",
        "if cols1 != rows2:\n",
        "    print(\"Matrix multiplication is not possible. The number of columns in the first matrix must be equal to the number of rows in the second matrix.\")\n",
        "else:\n",
        "    # Create the first matrix\n",
        "    print(\"\\nEnter elements for the first matrix:\")\n",
        "    matrix1 = []\n",
        "    for i in range(rows1):\n",
        "        row = []\n",
        "        for j in range(cols1):\n",
        "            element = float(input(f\"Enter element at position ({i+1},{j+1}): \"))\n",
        "            row.append(element)\n",
        "        matrix1.append(row)\n",
        "\n",
        "    # Create the second matrix\n",
        "    print(\"\\nEnter elements for the second matrix:\")\n",
        "    matrix2 = []\n",
        "    for i in range(rows2):\n",
        "        row = []\n",
        "        for j in range(cols2):\n",
        "            element = float(input(f\"Enter element at position ({i+1},{j+1}): \"))\n",
        "            row.append(element)\n",
        "        matrix2.append(row)\n",
        "\n",
        "    # Initialize the result matrix with zeros\n",
        "    result_matrix = [[0 for _ in range(cols2)] for _ in range(rows1)]\n",
        "\n",
        "    # Perform matrix multiplication\n",
        "    for i in range(rows1):\n",
        "        for j in range(cols2):\n",
        "            for k in range(cols1):\n",
        "                result_matrix[i][j] += matrix1[i][k] * matrix2[k][j]\n",
        "\n",
        "    # Display the result\n",
        "    print(\"\\nMatrix Multiplication Result:\")\n",
        "    for row in result_matrix:\n",
        "        print(row)\n"
      ]
    },
    {
      "cell_type": "code",
      "execution_count": null,
      "metadata": {
        "id": "bOSATFxOyEYr"
      },
      "outputs": [],
      "source": [
        "#Q.35. Create a program that simulates a basic text-based tic-tac-toe game against the computer."
      ]
    },
    {
      "cell_type": "code",
      "execution_count": null,
      "metadata": {
        "colab": {
          "base_uri": "https://localhost:8080/",
          "height": 470
        },
        "id": "nSC8zqYBeSAm",
        "outputId": "c6bd438b-a7ad-4026-f16a-caa143914cfc"
      },
      "outputs": [
        {
          "name": "stdout",
          "output_type": "stream",
          "text": [
            "Welcome to Tic-Tac-Toe!\n",
            "  |   |  \n",
            "---------\n",
            "  |   |  \n",
            "---------\n",
            "  |   |  \n",
            "---------\n",
            "Enter your move (row [0-2] and column [0-2]): 0-1\n"
          ]
        },
        {
          "ename": "ValueError",
          "evalue": "ignored",
          "output_type": "error",
          "traceback": [
            "\u001b[0;31m---------------------------------------------------------------------------\u001b[0m",
            "\u001b[0;31mValueError\u001b[0m                                Traceback (most recent call last)",
            "\u001b[0;32m<ipython-input-2-6bfdd2049ecd>\u001b[0m in \u001b[0;36m<cell line: 59>\u001b[0;34m()\u001b[0m\n\u001b[1;32m     58\u001b[0m \u001b[0;34m\u001b[0m\u001b[0m\n\u001b[1;32m     59\u001b[0m \u001b[0;32mif\u001b[0m \u001b[0m__name__\u001b[0m \u001b[0;34m==\u001b[0m \u001b[0;34m\"__main__\"\u001b[0m\u001b[0;34m:\u001b[0m\u001b[0;34m\u001b[0m\u001b[0;34m\u001b[0m\u001b[0m\n\u001b[0;32m---> 60\u001b[0;31m     \u001b[0mmain\u001b[0m\u001b[0;34m(\u001b[0m\u001b[0;34m)\u001b[0m\u001b[0;34m\u001b[0m\u001b[0;34m\u001b[0m\u001b[0m\n\u001b[0m",
            "\u001b[0;32m<ipython-input-2-6bfdd2049ecd>\u001b[0m in \u001b[0;36mmain\u001b[0;34m()\u001b[0m\n\u001b[1;32m     35\u001b[0m     \u001b[0;32mwhile\u001b[0m \u001b[0;32mTrue\u001b[0m\u001b[0;34m:\u001b[0m\u001b[0;34m\u001b[0m\u001b[0;34m\u001b[0m\u001b[0m\n\u001b[1;32m     36\u001b[0m         \u001b[0;32mif\u001b[0m \u001b[0mcurrent_player\u001b[0m \u001b[0;34m==\u001b[0m \u001b[0mplayer\u001b[0m\u001b[0;34m:\u001b[0m\u001b[0;34m\u001b[0m\u001b[0;34m\u001b[0m\u001b[0m\n\u001b[0;32m---> 37\u001b[0;31m             \u001b[0mrow\u001b[0m\u001b[0;34m,\u001b[0m \u001b[0mcol\u001b[0m \u001b[0;34m=\u001b[0m \u001b[0mmap\u001b[0m\u001b[0;34m(\u001b[0m\u001b[0mint\u001b[0m\u001b[0;34m,\u001b[0m \u001b[0minput\u001b[0m\u001b[0;34m(\u001b[0m\u001b[0;34mf\"Enter your move (row [0-2] and column [0-2]): \"\u001b[0m\u001b[0;34m)\u001b[0m\u001b[0;34m.\u001b[0m\u001b[0msplit\u001b[0m\u001b[0;34m(\u001b[0m\u001b[0;34m)\u001b[0m\u001b[0;34m)\u001b[0m\u001b[0;34m\u001b[0m\u001b[0;34m\u001b[0m\u001b[0m\n\u001b[0m\u001b[1;32m     38\u001b[0m         \u001b[0;32melse\u001b[0m\u001b[0;34m:\u001b[0m\u001b[0;34m\u001b[0m\u001b[0;34m\u001b[0m\u001b[0m\n\u001b[1;32m     39\u001b[0m             \u001b[0mprint\u001b[0m\u001b[0;34m(\u001b[0m\u001b[0;34m\"Computer is making a move...\"\u001b[0m\u001b[0;34m)\u001b[0m\u001b[0;34m\u001b[0m\u001b[0;34m\u001b[0m\u001b[0m\n",
            "\u001b[0;31mValueError\u001b[0m: invalid literal for int() with base 10: '0-1'"
          ]
        }
      ],
      "source": [
        "import random\n",
        "\n",
        "def print_board(board):\n",
        "    for row in board:\n",
        "        print(\" | \".join(row))\n",
        "        print(\"-\" * 9)\n",
        "\n",
        "def check_winner(board, player):\n",
        "    for row in board:\n",
        "        if all(cell == player for cell in row):\n",
        "            return True\n",
        "    for col in range(3):\n",
        "        if all(board[row][col] == player for row in range(3)):\n",
        "            return True\n",
        "    if all(board[i][i] == player for i in range(3)) or all(board[i][2 - i] == player for i in range(3)):\n",
        "        return True\n",
        "    return False\n",
        "\n",
        "def is_board_full(board):\n",
        "    return all(cell != \" \" for row in board for cell in row)\n",
        "\n",
        "def computer_move(board):\n",
        "    empty_cells = [(row, col) for row in range(3) for col in range(3) if board[row][col] == \" \"]\n",
        "    return random.choice(empty_cells)\n",
        "\n",
        "def main():\n",
        "    board = [[\" \" for _ in range(3)] for _ in range(3)]\n",
        "    player = \"X\"\n",
        "    computer = \"O\"\n",
        "    current_player = player\n",
        "\n",
        "    print(\"Welcome to Tic-Tac-Toe!\")\n",
        "    print_board(board)\n",
        "\n",
        "    while True:\n",
        "        if current_player == player:\n",
        "            row, col = map(int, input(f\"Enter your move (row [0-2] and column [0-2]): \").split())\n",
        "        else:\n",
        "            print(\"Computer is making a move...\")\n",
        "            row, col = computer_move(board)\n",
        "\n",
        "        if board[row][col] == \" \":\n",
        "            board[row][col] = current_player\n",
        "        else:\n",
        "            print(\"Invalid move. Try again.\")\n",
        "            continue\n",
        "\n",
        "        print_board(board)\n",
        "\n",
        "        if check_winner(board, current_player):\n",
        "            print(f\"{current_player} wins!\")\n",
        "            break\n",
        "        elif is_board_full(board):\n",
        "            print(\"It's a draw!\")\n",
        "            break\n",
        "\n",
        "        current_player = player if current_player == computer else computer\n",
        "\n",
        "if __name__ == \"__main__\":\n",
        "    main()\n"
      ]
    },
    {
      "cell_type": "code",
      "execution_count": null,
      "metadata": {
        "id": "aaUFoRj77yGV"
      },
      "outputs": [],
      "source": [
        "#Q.36. Write a program that generates Fibonacci numbers up to a specified term using iterative methods."
      ]
    },
    {
      "cell_type": "code",
      "execution_count": null,
      "metadata": {
        "colab": {
          "base_uri": "https://localhost:8080/"
        },
        "id": "jj2w6q_K-3Bb",
        "outputId": "85b59ddc-83c4-423c-d8df-9ad5f36df70e"
      },
      "outputs": [
        {
          "name": "stdout",
          "output_type": "stream",
          "text": [
            "Enter the number of Fibonacci terms to generate: 10\n",
            "Fibonacci sequence up to term 10:\n",
            "[0, 1, 1, 2, 3, 5, 8, 13, 21, 34]\n"
          ]
        }
      ],
      "source": [
        "def generate_fibonacci(n):\n",
        "    fibonacci_sequence = [0, 1]\n",
        "\n",
        "    if n <= 0:\n",
        "        return []\n",
        "    elif n == 1:\n",
        "        return [0]\n",
        "\n",
        "    while len(fibonacci_sequence) < n:\n",
        "        next_number = fibonacci_sequence[-1] + fibonacci_sequence[-2]\n",
        "        fibonacci_sequence.append(next_number)\n",
        "\n",
        "    return fibonacci_sequence\n",
        "\n",
        "# Input the desired number of terms\n",
        "try:\n",
        "    n = int(input(\"Enter the number of Fibonacci terms to generate: \"))\n",
        "    if n < 0:\n",
        "        print(\"Please enter a non-negative integer.\")\n",
        "    else:\n",
        "        fibonacci_sequence = generate_fibonacci(n)\n",
        "        print(f\"Fibonacci sequence up to term {n}:\")\n",
        "        print(fibonacci_sequence)\n",
        "except ValueError:\n",
        "    print(\"Invalid input. Please enter a non-negative integer.\")\n"
      ]
    },
    {
      "cell_type": "code",
      "execution_count": null,
      "metadata": {
        "id": "gAZUJVZF_LWu"
      },
      "outputs": [],
      "source": []
    },
    {
      "cell_type": "code",
      "execution_count": null,
      "metadata": {
        "id": "WV0ZYwhL_B2y"
      },
      "outputs": [],
      "source": [
        "#Q.37. Develop a program that calculates the nth term of the Fibonacci sequence using memoization."
      ]
    },
    {
      "cell_type": "code",
      "execution_count": null,
      "metadata": {
        "colab": {
          "base_uri": "https://localhost:8080/"
        },
        "id": "2ZcsMtcc_M8P",
        "outputId": "4228c997-9b9e-41e1-8c4f-48c6ad322c30"
      },
      "outputs": [
        {
          "name": "stdout",
          "output_type": "stream",
          "text": [
            "Enter the value of n to calculate the nth Fibonacci number: 100\n",
            "The 100th Fibonacci number is: 354224848179261915075\n"
          ]
        }
      ],
      "source": [
        "# Dictionary to store already computed Fibonacci values\n",
        "fib_cache = {}\n",
        "\n",
        "def fibonacci(n):\n",
        "    if n in fib_cache:\n",
        "        return fib_cache[n]\n",
        "\n",
        "    if n == 0:\n",
        "        fib_cache[n] = 0\n",
        "        return 0\n",
        "    elif n == 1:\n",
        "        fib_cache[n] = 1\n",
        "        return 1\n",
        "    else:\n",
        "        fib_cache[n] = fibonacci(n - 1) + fibonacci(n - 2)\n",
        "        return fib_cache[n]\n",
        "\n",
        "try:\n",
        "    n = int(input(\"Enter the value of n to calculate the nth Fibonacci number: \"))\n",
        "    if n < 0:\n",
        "        print(\"Please enter a non-negative integer.\")\n",
        "    else:\n",
        "        result = fibonacci(n)\n",
        "        print(f\"The {n}th Fibonacci number is: {result}\")\n",
        "except ValueError:\n",
        "    print(\"Invalid input. Please enter a non-negative integer.\")\n"
      ]
    },
    {
      "cell_type": "code",
      "execution_count": null,
      "metadata": {
        "id": "aSuBeBL__3Sf"
      },
      "outputs": [],
      "source": [
        "#Q.38. Create a program that generates a calendar for a given month and year using conditional statements."
      ]
    },
    {
      "cell_type": "code",
      "execution_count": null,
      "metadata": {
        "colab": {
          "base_uri": "https://localhost:8080/"
        },
        "id": "qthMdYbd_8KC",
        "outputId": "324c9bed-45eb-4218-8a39-7853433c038d"
      },
      "outputs": [
        {
          "name": "stdout",
          "output_type": "stream",
          "text": [
            "Enter the year (e.g., 2023): 2004\n",
            "Enter the month (1-12): 3\n",
            "\n",
            "Calendar:\n",
            "     March 2004\n",
            "Mo Tu We Th Fr Sa Su\n",
            " 1  2  3  4  5  6  7\n",
            " 8  9 10 11 12 13 14\n",
            "15 16 17 18 19 20 21\n",
            "22 23 24 25 26 27 28\n",
            "29 30 31\n",
            "\n"
          ]
        }
      ],
      "source": [
        "import calendar\n",
        "\n",
        "def generate_calendar(year, month):\n",
        "    cal = calendar.month(year, month)\n",
        "    return cal\n",
        "\n",
        "try:\n",
        "    year = int(input(\"Enter the year (e.g., 2023): \"))\n",
        "    month = int(input(\"Enter the month (1-12): \"))\n",
        "\n",
        "    if 1 <= month <= 12:\n",
        "        cal = generate_calendar(year, month)\n",
        "        print(\"\\nCalendar:\")\n",
        "        print(cal)\n",
        "    else:\n",
        "        print(\"Invalid month. Please enter a number between 1 and 12.\")\n",
        "except ValueError:\n",
        "    print(\"Invalid input. Please enter valid year and month values.\")\n"
      ]
    },
    {
      "cell_type": "code",
      "execution_count": null,
      "metadata": {
        "id": "DRV5JFcYAO5p"
      },
      "outputs": [],
      "source": [
        "#Q.39. Build a program that simulates a basic text-based blackjack game against the computer."
      ]
    },
    {
      "cell_type": "code",
      "execution_count": null,
      "metadata": {
        "colab": {
          "background_save": true,
          "base_uri": "https://localhost:8080/"
        },
        "id": "MnIctZCFAWkZ",
        "outputId": "6153f664-2884-4ac5-f728-9bc0888649ce"
      },
      "outputs": [
        {
          "name": "stdout",
          "output_type": "stream",
          "text": [
            "Welcome to Text-based Blackjack!\n",
            "\n",
            "Your hand:\n",
            "Two of Hearts\n",
            "Ace of Hearts\n",
            "\n",
            "Computer's hand:\n",
            "First card: Jack of Diamonds\n",
            "\n",
            "Your hand:\n",
            "Two of Hearts\n",
            "Ace of Hearts\n",
            "Six of Diamonds\n",
            "\n",
            "Computer's hand:\n",
            "Jack of Diamonds\n",
            "Ten of Diamonds\n",
            "\n",
            "Your score: 19\n",
            "Computer's score: 20\n",
            "You lose.\n"
          ]
        }
      ],
      "source": [
        "import random\n",
        "\n",
        "# Define the deck of cards\n",
        "suits = ['Hearts', 'Diamonds', 'Clubs', 'Spades']\n",
        "ranks = ['Two', 'Three', 'Four', 'Five', 'Six', 'Seven', 'Eight', 'Nine', 'Ten', 'Jack', 'Queen', 'King', 'Ace']\n",
        "\n",
        "# Create a dictionary to represent the card values\n",
        "card_values = {'Two': 2, 'Three': 3, 'Four': 4, 'Five': 5, 'Six': 6, 'Seven': 7, 'Eight': 8, 'Nine': 9, 'Ten': 10,\n",
        "               'Jack': 10, 'Queen': 10, 'King': 10, 'Ace': 11}\n",
        "\n",
        "# Define a function to create and shuffle the deck\n",
        "def create_deck():\n",
        "    deck = [{'rank': rank, 'suit': suit} for rank in ranks for suit in suits]\n",
        "    random.shuffle(deck)\n",
        "    return deck\n",
        "\n",
        "# Define a function to calculate the total value of a hand\n",
        "def calculate_hand_value(hand):\n",
        "    value = sum(card_values[card['rank']] for card in hand)\n",
        "    # Check for aces and reduce their value from 11 to 1 if needed\n",
        "    for card in hand:\n",
        "        if card['rank'] == 'Ace' and value > 21:\n",
        "            value -= 10\n",
        "    return value\n",
        "\n",
        "# Define a function to display a hand\n",
        "def display_hand(hand):\n",
        "    for card in hand:\n",
        "        print(f\"{card['rank']} of {card['suit']}\")\n",
        "\n",
        "def main():\n",
        "    print(\"Welcome to Text-based Blackjack!\")\n",
        "\n",
        "    while True:\n",
        "        player_hand = []\n",
        "        computer_hand = []\n",
        "        deck = create_deck()\n",
        "\n",
        "        # Deal two cards to the player and two cards to the computer\n",
        "        player_hand.extend(deck.pop() for _ in range(2))\n",
        "        computer_hand.extend(deck.pop() for _ in range(2))\n",
        "\n",
        "        print(\"\\nYour hand:\")\n",
        "        display_hand(player_hand)\n",
        "        print(\"\\nComputer's hand:\")\n",
        "        print(f\"First card: {computer_hand[0]['rank']} of {computer_hand[0]['suit']}\")\n",
        "\n",
        "        # Player's turn\n",
        "        while calculate_hand_value(player_hand) < 21:\n",
        "            choice = input(\"\\nDo you want to 'Hit' or 'Stand'? \").lower()\n",
        "            if choice == 'hit':\n",
        "                player_hand.append(deck.pop())\n",
        "                print(\"\\nYour hand:\")\n",
        "                display_hand(player_hand)\n",
        "            elif choice == 'stand':\n",
        "                break\n",
        "            else:\n",
        "                print(\"Invalid choice. Please enter 'Hit' or 'Stand'.\")\n",
        "\n",
        "        player_score = calculate_hand_value(player_hand)\n",
        "\n",
        "        # Computer's turn\n",
        "        while calculate_hand_value(computer_hand) < 17:\n",
        "            computer_hand.append(deck.pop())\n",
        "\n",
        "        computer_score = calculate_hand_value(computer_hand)\n",
        "\n",
        "        print(\"\\nComputer's hand:\")\n",
        "        display_hand(computer_hand)\n",
        "        print(f\"\\nYour score: {player_score}\")\n",
        "        print(f\"Computer's score: {computer_score}\")\n",
        "\n",
        "        if player_score > 21:\n",
        "            print(\"Bust! You lose.\")\n",
        "        elif computer_score > 21:\n",
        "            print(\"Computer busts! You win.\")\n",
        "        elif player_score > computer_score:\n",
        "            print(\"You win!\")\n",
        "        elif computer_score > player_score:\n",
        "            print(\"You lose.\")\n",
        "        else:\n",
        "            print(\"It's a tie!\")\n",
        "\n",
        "        play_again = input(\"\\nDo you want to play again? (yes/no): \").lower()\n",
        "        if play_again != 'yes':\n",
        "            break\n",
        "\n",
        "if __name__ == \"__main__\":\n",
        "    main()\n"
      ]
    },
    {
      "cell_type": "code",
      "execution_count": null,
      "metadata": {
        "id": "LyyI4-f3A1lh"
      },
      "outputs": [],
      "source": [
        "#Q40. Write a program that generates the prime factors of a given number using trial division."
      ]
    },
    {
      "cell_type": "code",
      "execution_count": null,
      "metadata": {
        "id": "XrFchN1KBEQ7"
      },
      "outputs": [],
      "source": [
        "def prime_factors(n):\n",
        "    factors = []\n",
        "    divisor = 2  # Start with the smallest prime number\n",
        "\n",
        "    while n > 1:\n",
        "        while n % divisor == 0:\n",
        "            factors.append(divisor)\n",
        "            n //= divisor\n",
        "        divisor += 1\n",
        "\n",
        "    return factors\n",
        "\n",
        "try:\n",
        "    num = int(input(\"Enter a positive integer: \"))\n",
        "    if num <= 0:\n",
        "        print(\"Please enter a positive integer.\")\n",
        "    else:\n",
        "        factors = prime_factors(num)\n",
        "        if len(factors) == 0:\n",
        "            print(f\"{num} is a prime number, and its only prime factor is itself.\")\n",
        "        else:\n",
        "            print(f\"The prime factors of {num} are: {factors}\")\n",
        "except ValueError:\n",
        "    print(\"Invalid input. Please enter a positive integer.\")\n"
      ]
    }
  ],
  "metadata": {
    "colab": {
      "provenance": []
    },
    "kernelspec": {
      "display_name": "Python 3",
      "name": "python3"
    },
    "language_info": {
      "name": "python"
    }
  },
  "nbformat": 4,
  "nbformat_minor": 0
}